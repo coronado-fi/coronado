{
 "cells": [
  {
   "cell_type": "markdown",
   "id": "8cc42330-9f72-4255-9278-763e050b94b7",
   "metadata": {},
   "source": [
    "# Coronado - README\n",
    "\n",
    "Odds and ends - things to do, things to know."
   ]
  },
  {
   "cell_type": "markdown",
   "id": "bcd79d29-8e71-4478-ab27-54a4e0a885ae",
   "metadata": {},
   "source": [
    "## PyPI publication, `twine`, and `keyring` under Lucyfer and dockerized Jupyter Notebooks\n",
    "\n",
    "The dockerized Jupyter Notebooks/Lucyer setup has an incompatible `keyring` configuration.  Disable it, set the password in `$HOME/.twinepasswd` with permissions set to 600.  The Makefile checks for its presence before attempting to publish to PyPI.\n",
    "\n",
    "The `twine` credentials JSON file format for this build is:\n",
    "\n",
    "```json\n",
    "{\n",
    "    \"user\": \"joeblow\",\n",
    "    \"password\": \"som3thingg00d\"\n",
    "}\n",
    "```\n",
    "\n",
    "\n",
    "### Linux / Lucyfer / Jupyter `twine` credentials check"
   ]
  },
  {
   "cell_type": "code",
   "execution_count": 2,
   "id": "8a496381-4e33-420b-8cf9-6fb4b72a3ae2",
   "metadata": {},
   "outputs": [
    {
     "name": "stdout",
     "output_type": "stream",
     "text": [
      "/home/jovyan/.twinepasswd\n",
      "\u001b[1;39m{\n",
      "  \u001b[0m\u001b[34;1m\"user\"\u001b[0m\u001b[1;39m: \u001b[0m\u001b[0;32m\"joeblow\"\u001b[0m\u001b[1;39m,\n",
      "  \u001b[0m\u001b[34;1m\"password\"\u001b[0m\u001b[1;39m: \u001b[0m\u001b[0;32m\"........\"\u001b[0m\u001b[1;39m\n",
      "\u001b[1;39m}\u001b[0m\n",
      "-rw------- 1 jovyan users 51 Jul 25 23:18 /home/jovyan/.twinepasswd\n"
     ]
    }
   ],
   "source": [
    "!TWINEPASSWD_FILE_NAME=\"$HOME/.twinepasswd\" \\\n",
    "    && [[ \"Linux\" = $(uname) ]] \\\n",
    "    && echo \"$TWINEPASSWD_FILE_NAME\" \\\n",
    "    && if [[ ! -e \"$TWINEPASSWD_FILE_NAME\" ]]; then touch \"$TWINEPASSWD_FILE_NAME\"; echo \"Created\"; fi \\\n",
    "    && if [[ \"0600\" != $(stat -c \"%a\" \"$TWINEPASSWD_FILE_NAME\") ]]; then chmod 600 \"$TWINEPASSWD_FILE_NAME\"; fi \\\n",
    "    && if [[ \"0\" = $(stat -c \"%s\" \"$TWINEPASSWD_FILE_NAME\") ]]; then echo \"Warning!  Zero-length file\"; fi \\\n",
    "    && jq '.password = \"........\"' \"$TWINEPASSWD_FILE_NAME\" \\\n",
    "    && ls -Alrt \"$HOME/.twine\"*"
   ]
  },
  {
   "cell_type": "markdown",
   "id": "3f4062e1-e63e-4728-b817-22b1cd7ac5fe",
   "metadata": {},
   "source": [
    "### macOS `twine` credentials check\n",
    "\n",
    "If you want to use the same scripts for compatibility under macOS, where `keyring` works fine."
   ]
  },
  {
   "cell_type": "code",
   "execution_count": null,
   "id": "9e85cbe2-d35d-4460-af5c-639832377ed3",
   "metadata": {},
   "outputs": [],
   "source": [
    "!TWINEPASSWD_FILE_NAME=\"$HOME/.twinepasswd\" \\\n",
    "    && [[ \"Darwin\" = $(uname) ]] \\\n",
    "    && echo \"$TWINEPASSWD_FILE_NAME\" \\\n",
    "    && if [[ ! -e \"$TWINEPASSWD_FILE_NAME\" ]]; then touch \"$TWINEPASSWD_FILE_NAME\"; echo \"Created\"; fi \\\n",
    "    && if [[ \"100600\" != $(stat -f \"%Op\" \"$TWINEPASSWD_FILE_NAME\") ]]; then chmod 600 \"$TWINEPASSWD_FILE_NAME\"; fi \\\n",
    "    && if [[ \"0\" == $(stat -f \"%z\"  \"$TWINEPASSWD_FILE_NAME\") ]]; then echo \"Warning!  Zero-length file\"; fi \\\n",
    "    && jq '.password = \"........\"' \"$TWINEPASSWD_FILE_NAME\" \\\n",
    "    && ls -Alrt \"$HOME/.twine\"*"
   ]
  },
  {
   "cell_type": "markdown",
   "id": "16fc595e-2ff5-45f6-95eb-7e00086d72ba",
   "metadata": {},
   "source": [
    "### Disable the Lucyfer / dockerized Jupyter Notebook `keyring`"
   ]
  },
  {
   "cell_type": "code",
   "execution_count": null,
   "id": "afda9deb-fd8a-4f68-a360-e1c94493e2cb",
   "metadata": {},
   "outputs": [],
   "source": [
    "!keyring --disable"
   ]
  },
  {
   "cell_type": "markdown",
   "id": "935931a8-f46d-4ae6-a79f-4b7bbf1152f0",
   "metadata": {},
   "source": [
    "### Build the code and publish it"
   ]
  },
  {
   "cell_type": "code",
   "execution_count": null,
   "id": "8e53dd3f-7fcb-48ca-9dc6-3bbaaff8be66",
   "metadata": {},
   "outputs": [],
   "source": [
    "!make all && make publish"
   ]
  },
  {
   "cell_type": "code",
   "execution_count": null,
   "id": "ea4e53af-cb32-4a95-85d1-830408c08a7e",
   "metadata": {},
   "outputs": [],
   "source": []
  }
 ],
 "metadata": {
  "kernelspec": {
   "display_name": "Python 3 (ipykernel)",
   "language": "python",
   "name": "python3"
  },
  "language_info": {
   "codemirror_mode": {
    "name": "ipython",
    "version": 3
   },
   "file_extension": ".py",
   "mimetype": "text/x-python",
   "name": "python",
   "nbconvert_exporter": "python",
   "pygments_lexer": "ipython3",
   "version": "3.10.5"
  }
 },
 "nbformat": 4,
 "nbformat_minor": 5
}
