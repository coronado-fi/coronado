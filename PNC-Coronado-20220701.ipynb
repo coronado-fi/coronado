{
 "cells": [
  {
   "cell_type": "markdown",
   "id": "5ae35f3c-6093-475a-89d4-ef81f675aa57",
   "metadata": {},
   "source": [
    "# PNC Coronado API show-n-tell\n",
    "\n",
    "## The low-level webservice API is hard for external parties to use.  The integration burden should be on triple, not on the end-users"
   ]
  },
  {
   "cell_type": "markdown",
   "id": "28840fe0-5ae5-4e6e-865d-a94b4561f1c1",
   "metadata": {},
   "source": [
    "The solution - the Coronado API"
   ]
  },
  {
   "cell_type": "markdown",
   "id": "a549775c-3db7-4d13-ad0e-24eb2aeb1d53",
   "metadata": {},
   "source": [
    "## Basics"
   ]
  },
  {
   "cell_type": "markdown",
   "id": "d770d0f8-fcb7-4ecc-96f6-865fe1bd0d88",
   "metadata": {},
   "source": [
    "Python, JVM, Typescript/JavaScrypt, R, and more -- all install using standard tools, from the standard real-world repositories.  The source code is available to anyone for inspection.  And they all work the same way."
   ]
  },
  {
   "cell_type": "markdown",
   "id": "bda06726-03d6-4480-a8e1-ba71d60c0ff6",
   "metadata": {},
   "source": [
    "## Installation\n",
    "\n",
    "Uses the standard installer for the target dev tool (`pip`, `mvn`, `npm`, etc.):"
   ]
  },
  {
   "cell_type": "code",
   "execution_count": null,
   "id": "5b4d3820-b87d-4144-a64a-253fbc11389c",
   "metadata": {},
   "outputs": [],
   "source": [
    "!pip install -U coronado"
   ]
  },
  {
   "cell_type": "markdown",
   "id": "78d0b7e1-e839-4042-a9d5-8310a7f80016",
   "metadata": {},
   "source": [
    "## Configuration\n",
    "\n",
    "Whatever works for you -- the API is agnostic and any configuration can be injected."
   ]
  },
  {
   "cell_type": "code",
   "execution_count": null,
   "id": "e5d1e0c0-019b-4a9f-aade-1968ab6b0c9d",
   "metadata": {},
   "outputs": [],
   "source": [
    "!cat \"$HOME/.config/coronado/config.json\""
   ]
  },
  {
   "cell_type": "markdown",
   "id": "efbbe4df-a1b9-4a61-a282-a463427a5f28",
   "metadata": {},
   "source": [
    "## Security token\n",
    "\n",
    "OAuth2 is messy, and permissions expire; that makes coding against the service provider a pain in the assets.  Coronado's Auth object hides that complexity and guarantees that the authentication tokens are always available and current -- from the implementer's point of view they **never expire**."
   ]
  },
  {
   "cell_type": "code",
   "execution_count": null,
   "id": "010fd7fc-a638-4ef9-9569-3d866aad74fc",
   "metadata": {},
   "outputs": [],
   "source": [
    "from coronado.auth import Auth, Scopes\n",
    "\n",
    "import json\n",
    "\n",
    "with open(\"/home/jovyan/.config/coronado/config.json\", \"r\") as configInput:\n",
    "    config = json.load(configInput)\n",
    "\n",
    "auth = Auth(config['tokenURL'], config['clientID'], config['secret'], scope = Scopes.PUBLISHERS)"
   ]
  },
  {
   "cell_type": "code",
   "execution_count": null,
   "id": "4b4ddfe0-f083-401b-ad0c-357d597c75c0",
   "metadata": {},
   "outputs": [],
   "source": [
    "auth.token"
   ]
  },
  {
   "cell_type": "code",
   "execution_count": null,
   "id": "a63e1ec1-6a63-427e-ac58-e678ccc67731",
   "metadata": {},
   "outputs": [],
   "source": [
    "auth.tokenType"
   ]
  },
  {
   "cell_type": "markdown",
   "id": "f3c89d46-70fb-440a-a9d9-97bd391c1dba",
   "metadata": {},
   "source": [
    "## Using triple business objects\n",
    "\n",
    "The user never uses JSON -- it's all language level, typed, high-level objects."
   ]
  },
  {
   "cell_type": "code",
   "execution_count": null,
   "id": "9b4b252c-8146-475f-a3a7-b7f657265fc5",
   "metadata": {},
   "outputs": [],
   "source": [
    "from coronado import CardAccount\n",
    "\n",
    "accounts = CardAccount.list(config['serviceURL'], auth = auth)"
   ]
  },
  {
   "cell_type": "code",
   "execution_count": null,
   "id": "6495ac6f-de27-4ec9-9d84-a35bfe011ccd",
   "metadata": {},
   "outputs": [],
   "source": [
    "accounts"
   ]
  },
  {
   "cell_type": "code",
   "execution_count": null,
   "id": "cf02988f-1778-4f85-afad-96154d78a1a7",
   "metadata": {},
   "outputs": [],
   "source": [
    "account = accounts[0]"
   ]
  },
  {
   "cell_type": "code",
   "execution_count": null,
   "id": "4df9316d-3c40-4fee-933f-8657efd6c340",
   "metadata": {},
   "outputs": [],
   "source": [
    "account.listAttributes()"
   ]
  },
  {
   "cell_type": "code",
   "execution_count": null,
   "id": "678564a0-a232-431f-8846-d9c7f9ccc1c0",
   "metadata": {},
   "outputs": [],
   "source": [
    "account.status"
   ]
  },
  {
   "cell_type": "markdown",
   "id": "b27167d4-4636-4314-bb1b-f298912f1f58",
   "metadata": {},
   "source": [
    "The full objects are enforced and created complete; some of the APIs, like the prevoius one, return only partial objects."
   ]
  },
  {
   "cell_type": "code",
   "execution_count": null,
   "id": "f684421b-964a-4b2f-b901-f99967bbe4aa",
   "metadata": {},
   "outputs": [],
   "source": [
    "account = CardAccount()"
   ]
  },
  {
   "cell_type": "code",
   "execution_count": null,
   "id": "86dbe175-f5dc-43ba-887d-6344d7948442",
   "metadata": {},
   "outputs": [],
   "source": [
    "import coronado"
   ]
  },
  {
   "cell_type": "code",
   "execution_count": null,
   "id": "0172bb6b-8684-494a-9ecb-13e1c3378fa5",
   "metadata": {},
   "outputs": [],
   "source": [
    "type(account)"
   ]
  },
  {
   "cell_type": "code",
   "execution_count": null,
   "id": "54beb39f-8144-4ef8-bf0f-057945694215",
   "metadata": {},
   "outputs": [],
   "source": [
    "isinstance(account, coronado.TripleObject)"
   ]
  },
  {
   "cell_type": "code",
   "execution_count": null,
   "id": "1881bb3b-0512-40c2-ae30-3c3351b09d00",
   "metadata": {},
   "outputs": [],
   "source": [
    "account.listAttributes()"
   ]
  },
  {
   "cell_type": "code",
   "execution_count": null,
   "id": "2e764e34-9b05-4ed8-be26-b5450c64f8bd",
   "metadata": {},
   "outputs": [],
   "source": [
    "account.objID"
   ]
  },
  {
   "cell_type": "code",
   "execution_count": null,
   "id": "9d322da6-da75-4df9-b3dc-faba6e783b8e",
   "metadata": {},
   "outputs": [],
   "source": [
    "account.status"
   ]
  }
 ],
 "metadata": {
  "kernelspec": {
   "display_name": "Python 3 (ipykernel)",
   "language": "python",
   "name": "python3"
  },
  "language_info": {
   "codemirror_mode": {
    "name": "ipython",
    "version": 3
   },
   "file_extension": ".py",
   "mimetype": "text/x-python",
   "name": "python",
   "nbconvert_exporter": "python",
   "pygments_lexer": "ipython3",
   "version": "3.10.4"
  }
 },
 "nbformat": 4,
 "nbformat_minor": 5
}
