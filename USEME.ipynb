{
 "cells": [
  {
   "cell_type": "markdown",
   "id": "f79cc2bd-05e5-4921-a613-9ebb23cbb75e",
   "metadata": {},
   "source": [
    "# USEME - Using the Coronado API"
   ]
  },
  {
   "cell_type": "code",
   "execution_count": null,
   "id": "33f3cb4d-c298-4425-8349-ee81d44d6bba",
   "metadata": {},
   "outputs": [],
   "source": []
  }
 ],
 "metadata": {
  "kernelspec": {
   "display_name": "Python 3 (ipykernel)",
   "language": "python",
   "name": "python3"
  },
  "language_info": {
   "codemirror_mode": {
    "name": "ipython",
    "version": 3
   },
   "file_extension": ".py",
   "mimetype": "text/x-python",
   "name": "python",
   "nbconvert_exporter": "python",
   "pygments_lexer": "ipython3",
   "version": "3.10.4"
  }
 },
 "nbformat": 4,
 "nbformat_minor": 5
}
