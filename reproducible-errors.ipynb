{
 "cells": [
  {
   "cell_type": "markdown",
   "id": "b49f801a-6376-4937-a7b2-93b12bec4d92",
   "metadata": {},
   "source": [
    "# Create fails on publisher_external_id and documentation is wrong"
   ]
  },
  {
   "cell_type": "code",
   "execution_count": 1,
   "id": "3b8865ef-c6a8-4cc8-906b-ee740603f382",
   "metadata": {},
   "outputs": [],
   "source": [
    "from coronado.auth import Auth, Scopes, loadConfig\n",
    "from coronado.cardprog import CardProgram\n",
    "from coronado.publisher import Publisher\n",
    "\n",
    "import uuid"
   ]
  },
  {
   "cell_type": "code",
   "execution_count": 2,
   "id": "7890e9e0-5d95-49e7-a9bd-f99715b01ed0",
   "metadata": {},
   "outputs": [],
   "source": [
    "c = loadConfig()\n",
    "a = Auth(c['tokenURL'], c['clientID'], c['secret'], Scopes.PUBLISHERS)\n",
    "Publisher.initialize(c['serviceURL'], a)\n",
    "CardProgram.initialize(c['serviceURL'], a)"
   ]
  },
  {
   "cell_type": "code",
   "execution_count": 3,
   "id": "e4ee190e-e55c-477b-a914-fecb13c4ca64",
   "metadata": {},
   "outputs": [
    {
     "name": "stdout",
     "output_type": "stream",
     "text": [
      "pubID = 4: Kukla Enterprises, Inc.\n",
      "pubID == 4 is among Publishers\n"
     ]
    }
   ],
   "source": [
    "pubID = '4'\n",
    "print('pubID = %s: %s' % (pubID, Publisher.byID(pubID)))\n",
    "\n",
    "if pubID in (q.objID for q in Publisher.list()):\n",
    "    print('pubID == %s is among Publishers' % pubID)"
   ]
  },
  {
   "cell_type": "code",
   "execution_count": 5,
   "id": "d2d3f245-d252-4ec5-8558-d4a8c51039c0",
   "metadata": {},
   "outputs": [
    {
     "data": {
      "text/plain": [
       "{'address': 'coronado.TripleObject',\n",
       " 'assumedName': 'str',\n",
       " 'createdAt': 'str',\n",
       " 'externalID': 'str',\n",
       " 'objID': 'str',\n",
       " 'portfolioManagerID': 'str',\n",
       " 'revenueShare': 'float',\n",
       " 'updatedAt': 'str'}"
      ]
     },
     "execution_count": 5,
     "metadata": {},
     "output_type": "execute_result"
    }
   ],
   "source": [
    "p = Publisher('4')\n",
    "p.listAttributes()"
   ]
  },
  {
   "cell_type": "code",
   "execution_count": 7,
   "id": "25163024-7de4-449d-b4b4-87d31ffb59c8",
   "metadata": {},
   "outputs": [
    {
     "data": {
      "text/plain": [
       "'4269'"
      ]
     },
     "execution_count": 7,
     "metadata": {},
     "output_type": "execute_result"
    }
   ],
   "source": [
    "p.externalID"
   ]
  },
  {
   "cell_type": "code",
   "execution_count": null,
   "id": "aee38193-a8de-4718-ae9a-4441e7d5b2e9",
   "metadata": {},
   "outputs": [],
   "source": [
    "payload = {\n",
    "    'external_id': uuid.uuid4().hex,\n",
    "    'name': 'Tacos n Beer %s' % uuid.uuid4().hex,\n",
    "    'program_currency': 'USD',\n",
    "}"
   ]
  },
  {
   "cell_type": "code",
   "execution_count": null,
   "id": "6a9cc3ca-b717-4439-b74c-0a1ae62970c3",
   "metadata": {},
   "outputs": [],
   "source": [
    "p = CardProgram.create(payload)"
   ]
  },
  {
   "cell_type": "code",
   "execution_count": null,
   "id": "af29700d-6f5c-42ec-be02-e38955f5b856",
   "metadata": {},
   "outputs": [],
   "source": [
    "payload = {\n",
    "    'external_id': uuid.uuid4().hex,\n",
    "    'name': 'Tacos n Beer %s' % uuid.uuid4().hex,\n",
    "    'program_currency': 'USD',\n",
    "    'publisher_external_id': pubID,\n",
    "}"
   ]
  },
  {
   "cell_type": "code",
   "execution_count": null,
   "id": "91ac0ba9-bdd1-4906-b7d1-eaf949068079",
   "metadata": {},
   "outputs": [],
   "source": [
    "p = CardProgram.create(payload)"
   ]
  },
  {
   "cell_type": "markdown",
   "id": "de36bff6-3757-4f37-959c-a240819be4af",
   "metadata": {},
   "source": [
    "---"
   ]
  },
  {
   "cell_type": "code",
   "execution_count": null,
   "id": "43101e29-4323-43ca-880e-835b1c88e03b",
   "metadata": {},
   "outputs": [],
   "source": []
  }
 ],
 "metadata": {
  "kernelspec": {
   "display_name": "Python 3 (ipykernel)",
   "language": "python",
   "name": "python3"
  },
  "language_info": {
   "codemirror_mode": {
    "name": "ipython",
    "version": 3
   },
   "file_extension": ".py",
   "mimetype": "text/x-python",
   "name": "python",
   "nbconvert_exporter": "python",
   "pygments_lexer": "ipython3",
   "version": "3.10.5"
  }
 },
 "nbformat": 4,
 "nbformat_minor": 5
}
