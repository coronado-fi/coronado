{
 "cells": [
  {
   "cell_type": "markdown",
   "id": "b49f801a-6376-4937-a7b2-93b12bec4d92",
   "metadata": {},
   "source": [
    "# Create fails"
   ]
  },
  {
   "cell_type": "code",
   "execution_count": 10,
   "id": "e3b3ee24-9a58-4a8b-a18d-17ecff72d273",
   "metadata": {},
   "outputs": [],
   "source": [
    "import uuid\n",
    "\n",
    "from coronado.auth import Auth\n",
    "from coronado.auth import Scopes\n",
    "from coronado.auth import loadConfig\n",
    "from coronado.account import CardAccount, CardAccountStatus\n",
    "from coronado.cardprog import CardProgram\n",
    "from coronado.publisher import Publisher"
   ]
  },
  {
   "cell_type": "code",
   "execution_count": 11,
   "id": "6eb9c5d7-7826-4d80-b6f6-608a38c6d2f2",
   "metadata": {},
   "outputs": [],
   "source": [
    "config = loadConfig()\n",
    "auth = Auth(tokenURL = config['tokenURL'],\n",
    "            clientID = config['clientID'],\n",
    "            clientSecret = config['secret'],\n",
    "            scope = Scopes.PUBLISHERS)\n",
    "CardAccount.initialize(config['serviceURL'], auth)\n",
    "CardProgram.initialize(config['serviceURL'], auth)\n",
    "Publisher.initialize(config['serviceURL'], auth)"
   ]
  },
  {
   "cell_type": "code",
   "execution_count": 12,
   "id": "cfce5be4-d52f-4956-8d7f-ed0c29647e4d",
   "metadata": {},
   "outputs": [
    {
     "name": "stdout",
     "output_type": "stream",
     "text": [
      "ID = 16, extID = prog-5a4d1563410c4ff687d8a6fa8c208fe8\n"
     ]
    }
   ],
   "source": [
    "prog = CardProgram('16')\n",
    "print('ID = %s, extID = %s' % (prog.objID, prog.externalID))"
   ]
  },
  {
   "cell_type": "code",
   "execution_count": 13,
   "id": "6185d354-2a92-4501-9e9d-3db1f5ae7c4f",
   "metadata": {},
   "outputs": [
    {
     "name": "stdout",
     "output_type": "stream",
     "text": [
      "ID = 4, extID = 4269\n"
     ]
    }
   ],
   "source": [
    "pub = Publisher('4')\n",
    "print('ID = %s, extID = %s' % (pub.objID, pub.externalID))"
   ]
  },
  {
   "cell_type": "code",
   "execution_count": 7,
   "id": "82b59ab5-b9d6-4638-9cf8-0344ae074cc8",
   "metadata": {},
   "outputs": [],
   "source": [
    "spec = {\n",
    "    'card_program_external_id': prog.externalID,\n",
    "    # 'card_program_external_id': prog.objID,\n",
    "    'external_id': 'pnc-card-69-%s' % uuid.uuid4().hex,\n",
    "    'publisher_external_id': pub.externalID,\n",
    "    'status': str(CardAccountStatus.ENROLLED),\n",
    "}\n"
   ]
  },
  {
   "cell_type": "code",
   "execution_count": 9,
   "id": "c5ffcf0b-341e-4cb5-912d-06e696e44eee",
   "metadata": {},
   "outputs": [
    {
     "ename": "CoronadoMalformedObjectError",
     "evalue": "{\"id\":\"2\",\"card_program_id\":\"16\",\"external_id\":\"pnc-card-69-ed3f4e2b0bba4e2bbd32d1c77d201cef\",\"status\":\"ENROLLED\",\"created_at\":\"2022-07-08T23:03:40\",\"updated_at\":\"2022-07-08T23:03:40\"}",
     "output_type": "error",
     "traceback": [
      "\u001b[0;31m---------------------------------------------------------------------------\u001b[0m",
      "\u001b[0;31mCoronadoMalformedObjectError\u001b[0m              Traceback (most recent call last)",
      "Input \u001b[0;32mIn [9]\u001b[0m, in \u001b[0;36m<cell line: 1>\u001b[0;34m()\u001b[0m\n\u001b[0;32m----> 1\u001b[0m \u001b[43mCardAccount\u001b[49m\u001b[38;5;241;43m.\u001b[39;49m\u001b[43mcreate\u001b[49m\u001b[43m(\u001b[49m\u001b[43mspec\u001b[49m\u001b[43m)\u001b[49m\n",
      "File \u001b[0;32m~/coronado/coronado/account.py:131\u001b[0m, in \u001b[0;36mCardAccount.create\u001b[0;34m(klass, spec)\u001b[0m\n\u001b[1;32m    128\u001b[0m response \u001b[38;5;241m=\u001b[39m requests\u001b[38;5;241m.\u001b[39mrequest(\u001b[38;5;124m'\u001b[39m\u001b[38;5;124mPOST\u001b[39m\u001b[38;5;124m'\u001b[39m, endpoint, headers \u001b[38;5;241m=\u001b[39m CardAccount\u001b[38;5;241m.\u001b[39mheaders, json \u001b[38;5;241m=\u001b[39m spec)\n\u001b[1;32m    130\u001b[0m \u001b[38;5;28;01mif\u001b[39;00m response\u001b[38;5;241m.\u001b[39mstatus_code \u001b[38;5;241m!=\u001b[39m \u001b[38;5;241m200\u001b[39m:\n\u001b[0;32m--> 131\u001b[0m     \u001b[38;5;28;01mraise\u001b[39;00m CoronadoMalformedObjectError(response\u001b[38;5;241m.\u001b[39mtext)\n\u001b[1;32m    132\u001b[0m \u001b[38;5;28;01melif\u001b[39;00m response\u001b[38;5;241m.\u001b[39mstatus_code \u001b[38;5;241m==\u001b[39m \u001b[38;5;241m422\u001b[39m:\n\u001b[1;32m    133\u001b[0m     \u001b[38;5;28;01mraise\u001b[39;00m CoronadoUnprocessableObjectError(response\u001b[38;5;241m.\u001b[39mtext)\n",
      "\u001b[0;31mCoronadoMalformedObjectError\u001b[0m: {\"id\":\"2\",\"card_program_id\":\"16\",\"external_id\":\"pnc-card-69-ed3f4e2b0bba4e2bbd32d1c77d201cef\",\"status\":\"ENROLLED\",\"created_at\":\"2022-07-08T23:03:40\",\"updated_at\":\"2022-07-08T23:03:40\"}"
     ]
    }
   ],
   "source": [
    "CardAccount.create(spec)"
   ]
  },
  {
   "cell_type": "code",
   "execution_count": null,
   "id": "634a0e68-a678-4c65-b9d7-ccccafce976f",
   "metadata": {},
   "outputs": [],
   "source": []
  }
 ],
 "metadata": {
  "kernelspec": {
   "display_name": "Python 3 (ipykernel)",
   "language": "python",
   "name": "python3"
  },
  "language_info": {
   "codemirror_mode": {
    "name": "ipython",
    "version": 3
   },
   "file_extension": ".py",
   "mimetype": "text/x-python",
   "name": "python",
   "nbconvert_exporter": "python",
   "pygments_lexer": "ipython3",
   "version": "3.10.5"
  }
 },
 "nbformat": 4,
 "nbformat_minor": 5
}
