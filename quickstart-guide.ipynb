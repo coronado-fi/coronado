{
 "cells": [
  {
   "cell_type": "markdown",
   "id": "f79cc2bd-05e5-4921-a613-9ebb23cbb75e",
   "metadata": {},
   "source": [
    "# Quickstart guide - using the Coronado API\n",
    "\n",
    "The low-level web service API is difficult for external parties to use.  The Coronado API is a set of Python, JVM, and Typescript/JavaScript wrappers designed to streamline integration."
   ]
  },
  {
   "cell_type": "markdown",
   "id": "0f283df0-a1b7-4576-bd49-37c033c0f8f2",
   "metadata": {},
   "source": [
    "## Installation\n",
    "\n",
    "The Coronado project is Open Source and licensed under Apache 2.0.  The latest stable code is available from the language-specific repositories like **<a href='https://pypi.org/project/coronado' target='_blank'>PyPI</a>**, Maven Central, and <a href='https://www.npmjs.com/package/coronado' target='_blank'>**NPM**</a>.  Use the standard installer for your target dev tool  to install (`pip`, `mvn`, `npm`, etc.):"
   ]
  },
  {
   "cell_type": "code",
   "execution_count": null,
   "id": "7bfc92f3-3f42-4747-b4e6-a51d9b4765c2",
   "metadata": {},
   "outputs": [],
   "source": [
    "# !pip install -U coronado"
   ]
  },
  {
   "cell_type": "markdown",
   "id": "8edf9d35-3d16-48d0-9d9c-cf365ae1bf1f",
   "metadata": {},
   "source": [
    "---\n",
    "## Authentication\n",
    "\n",
    "Authentication is transparent to the Coronado user:\n",
    "\n",
    "1. Obtain a valid clientID/clientSecret pair from triple\n",
    "1. Obtain the service's URL from triple; the triple environment\n",
    "   support multi-tenancy plus sandboxes and production environments with dedicated URLs\n",
    "1. Initialize the Auth object with this information\n",
    "\n",
    "The `loadConfig()` utility function can be used for loading the configuration file from a system-dependent standard location.  To view the corresponding location for the system where you're trying the API, run:"
   ]
  },
  {
   "cell_type": "markdown",
   "id": "f2f275ca-d647-4030-909b-1284acf032b2",
   "metadata": {},
   "source": [
    "### Configuration made simple"
   ]
  },
  {
   "cell_type": "code",
   "execution_count": null,
   "id": "9cf19267-c191-4e2b-8153-a49c1289f096",
   "metadata": {},
   "outputs": [],
   "source": [
    "from coronado.auth import SECRETS_FILE_PATH\n",
    "SECRETS_FILE_PATH"
   ]
  },
  {
   "cell_type": "markdown",
   "id": "1a380348-4066-4db5-9346-268d7e695cb3",
   "metadata": {},
   "source": [
    "The `Auth` instances use specific arguments for configuration; the `config.json` file and associated methods are available for convenience.  Coronado API users are welcome to use any configuration management they wish, in whatever format.  `Auth` constructors use whatever arguments are passed during initialization.  A typical configuration includes:"
   ]
  },
  {
   "cell_type": "code",
   "execution_count": null,
   "id": "36a07ef8-67ca-48f0-959c-ed4ceadb6cdb",
   "metadata": {},
   "outputs": [],
   "source": [
    "from coronado.auth import loadConfig\n",
    "conf4Display = loadConfig()\n",
    "conf4Display['clientID'] = conf4Display['clientID'][-8:]\n",
    "conf4Display['secret'] = conf4Display['secret'][-16:]\n",
    "conf4Display"
   ]
  },
  {
   "cell_type": "markdown",
   "id": "6fbc7754-46fd-411a-ab08-2a7d604de913",
   "metadata": {},
   "source": [
    "### Instantiate the Auth object\n",
    "\n",
    "`Auth` instances are long-lived, and can be reused across multiple API calls, across one or more Coronado classes or objects, without worrying about expiration time, regardless of what the OAuth2 policy set up (e.g. 3600 seconds).  `Auth` instances are guaranteed to **always** render a valid JWT token because they renew it behind the scenes if they are expired, without further programmer participation.\n",
    "\n",
    "To instantiate a new `Auth` object pass the pertinent configuration parameters and the appropriate OAuth scope for the operations using the `Auth`.  You may need to instantiate more than one `Auth` object if the subsequent API calls correspond to different scopes.  See https://api.partners.dev.tripleupdev.com/docs#section/Authentication for more information.  The `Scope` object pre-defines all available scopes:"
   ]
  },
  {
   "cell_type": "code",
   "execution_count": null,
   "id": "4f60b522-3b7a-4e4e-8eb6-f35176b4276a",
   "metadata": {},
   "outputs": [],
   "source": [
    "from coronado.auth import Scopes\n",
    "\n",
    "currentScope = Scopes.PUBLISHERS\n",
    "print('Defined scopes:  %s' % [scope for scope in dir(Scopes) if '__' not in scope])"
   ]
  },
  {
   "cell_type": "markdown",
   "id": "b53e7317-a62c-4611-a980-b8f49b310405",
   "metadata": {},
   "source": [
    "Instantiate the `Auth` object and keep it around for calls:"
   ]
  },
  {
   "cell_type": "code",
   "execution_count": null,
   "id": "2876f621-6efd-4eda-b6f3-8c9ed6ff4da1",
   "metadata": {},
   "outputs": [],
   "source": [
    "from coronado.auth import Auth\n",
    "\n",
    "config = loadConfig()\n",
    "auth = Auth(tokenURL = config['tokenURL'],\n",
    "            clientID = config['clientID'],\n",
    "            clientSecret = config['secret'],\n",
    "            scope = currentScope)"
   ]
  },
  {
   "cell_type": "markdown",
   "id": "029b965f-75ee-4870-8fc7-9856031393b5",
   "metadata": {},
   "source": [
    "And validate that the instance has all the appropriate attributes set:"
   ]
  },
  {
   "cell_type": "code",
   "execution_count": null,
   "id": "ed542021-bfc1-4631-9ba8-b82ad7bcdeb2",
   "metadata": {},
   "outputs": [],
   "source": [
    "print('token: %s.....426a' % auth.token[:32])\n",
    "print('token type: %s' % auth.tokenType)"
   ]
  },
  {
   "cell_type": "markdown",
   "id": "228737f6-5f6f-40c7-85f8-8556928fcdce",
   "metadata": {},
   "source": [
    "The `auth` object will be ready to use for as long as the process that instantiated is alive."
   ]
  },
  {
   "cell_type": "markdown",
   "id": "90ee7145-a415-4b1e-9db9-64490dfa84a6",
   "metadata": {},
   "source": [
    "---\n",
    "## Using triple objects\n",
    "\n",
    "triple objects are attribute containers with very little built-in logic.  Their purpose is to make it super-easy to use without having to think about the nitty gritty of URL management, endpoints configuration, and so on.  All objects have the same class attributes and method names, and individual attributes may be accessed using dot-notation (Python, JavaScript, R) or JVM accessor convetions (getters/setters).\n",
    "\n",
    "### Configuring triple objects to use the correct services provider\n",
    "\n",
    "1. Initialize the corresponding class to use the right configuration\n",
    "1. Instantiate an object directly and set its attributes, OR\n",
    "1. Perform service operations using the corresponding class methods"
   ]
  },
  {
   "cell_type": "code",
   "execution_count": null,
   "id": "9cc3d2b6-5f50-4ab7-8790-92a2040f8207",
   "metadata": {},
   "outputs": [],
   "source": [
    "from copy import deepcopy\n",
    "from coronado.publisher import Publisher\n",
    "\n",
    "Publisher.initialize(config['serviceURL'], auth)\n",
    "\n",
    "headers = deepcopy(Publisher.headers)\n",
    "headers['Authorization'] = '%s...69f2' % headers['Authorization'][:64]\n",
    "print('service: %s' % Publisher._serviceURL)\n",
    "print('raw token: %s' % Publisher._auth.token[:32])\n",
    "print('headers: %s' % headers)"
   ]
  },
  {
   "cell_type": "markdown",
   "id": "78af9b67-9f06-4402-ab01-254156b4709c",
   "metadata": {},
   "source": [
    "### Creating a new Publisher resource\n",
    "\n",
    "Each individual resource is associated with a persistent instance of a Publisher.  Use a publisher spec, as defined by the API, to create a new Publisher resource.  The publisher spec requires:\n",
    "\n",
    "- Publisher assumed name (e.g. Acme, Inc.)\n",
    "- An external ID\n",
    "- The revenue share as a percentage (1.25, not 0.0125)\n",
    "- A physical address\n",
    "\n",
    "Addresses are normalized in the triple ecosystem (in fact, they are also backed by an RDF specification).  That means that the publisher spec also requires a well-formed `Address` object.\n",
    "\n",
    "#### Working with Address objects\n",
    "\n",
    "Easy - create an `Address` instance, populate its attributes, and generate the corresponding address spec, compatible with the triple API."
   ]
  },
  {
   "cell_type": "code",
   "execution_count": null,
   "id": "40f063df-8769-4fc4-b18c-a496e2255281",
   "metadata": {},
   "outputs": [],
   "source": [
    "from coronado.address import Address\n",
    "\n",
    "address = Address()\n",
    "\n",
    "print('All address attributes and their types:')\n",
    "address.listAttributes()"
   ]
  },
  {
   "cell_type": "markdown",
   "id": "5391865d-97cd-4a67-88ae-564f295ed0c8",
   "metadata": {},
   "source": [
    "Initialize an address object (semantics) and display it in various application-specific formats:"
   ]
  },
  {
   "cell_type": "code",
   "execution_count": null,
   "id": "c5ba8819-82a6-42eb-aa73-278941801a16",
   "metadata": {},
   "outputs": [],
   "source": [
    "address.line1 = '3390 Geary Boulevard'\n",
    "address.line2 = 'Suite 99'\n",
    "address.locality = 'San Francisco'\n",
    "address.province = 'CA'\n",
    "address.postalCode = '94118'\n",
    "address.countryCode = 'US'"
   ]
  },
  {
   "cell_type": "markdown",
   "id": "060dda15-eda9-47a4-b234-dc37224ff31a",
   "metadata": {},
   "source": [
    "First, display the addressSpec representation expected by various API objects at creation time:"
   ]
  },
  {
   "cell_type": "code",
   "execution_count": null,
   "id": "41c55d72-7679-4c8b-9bb1-e99a31974802",
   "metadata": {},
   "outputs": [],
   "source": [
    "address.asSnakeCaseDictionary()"
   ]
  },
  {
   "cell_type": "markdown",
   "id": "5d66086d-4963-4008-829a-ed15d3d87bc3",
   "metadata": {},
   "source": [
    "Now, display it as a complete address compatible with the Publisher spec:"
   ]
  },
  {
   "cell_type": "code",
   "execution_count": null,
   "id": "7386f217-b39f-470b-af3d-ef3f51bdcdc3",
   "metadata": {},
   "outputs": [],
   "source": [
    "address.complete"
   ]
  },
  {
   "cell_type": "markdown",
   "id": "cd44c4b5-672b-4de3-87d4-33037054a58d",
   "metadata": {},
   "source": [
    "Last, display its string representation and compare it against other API objects that don't have a string representation:"
   ]
  },
  {
   "cell_type": "code",
   "execution_count": null,
   "id": "7d962914-7752-4209-bc0d-4f8b3ad42574",
   "metadata": {},
   "outputs": [],
   "source": [
    "print('address:\\n%s' % address)\n",
    "print('\\nauth: %s\\n' % auth)"
   ]
  },
  {
   "cell_type": "markdown",
   "id": "d0af2f7e-675b-4240-900e-ab5f9054db26",
   "metadata": {},
   "source": [
    "#### Build the Publisher spec\n",
    "\n",
    "The low-level service API `pubSpec` is a snake_case JSON object with arbitrary attributes set according to the documentation.  Building such an object is trivial:"
   ]
  },
  {
   "cell_type": "code",
   "execution_count": null,
   "id": "c3c6ea3b-6279-4e17-a3e2-180f7441dd99",
   "metadata": {},
   "outputs": [],
   "source": [
    "import uuid\n",
    "\n",
    "payload = {\n",
    "    'address': address.asSnakeCaseDictionary(),\n",
    "    'assumed_name': 'Acme-%s, Inc.' % uuid.uuid4().hex,   # !!\n",
    "    'external_id': uuid.uuid4().hex[-12:],   # !!\n",
    "    'revenue_share': 1.1,\n",
    "\n",
    "}"
   ]
  },
  {
   "cell_type": "markdown",
   "id": "82380e07-1a06-4015-964d-f8f592ff3e29",
   "metadata": {},
   "source": [
    "**IMPORTANT**\n",
    "\n",
    "The UUID value mangling of the assumed or externalID value **are not required during normal operation!**  They are present in the Coronado examples and in the unit tests to generate a random value with very low clashing probability because triple **does not support deletion** in any services for the current API version.\n",
    "\n",
    "**YOU DON NOT NEED TO ADD ANY UUID VALUES TO YOUR ACTUAL OBJECT DEFINITIONS.  They are used only for the examples in this document.**\n",
    "\n",
    "Resource deletions may lead to data consistency problems for the current implementation.  Therefore, all triple API objects are WORM (write once read many)."
   ]
  },
  {
   "cell_type": "markdown",
   "id": "aac1c3e1-501a-4940-953c-232312853649",
   "metadata": {},
   "source": [
    "#### Creating new objects\n",
    "\n",
    "Very simple operation:"
   ]
  },
  {
   "cell_type": "code",
   "execution_count": null,
   "id": "c6153326-2ec8-47fe-97ba-6653a21d4061",
   "metadata": {},
   "outputs": [],
   "source": [
    "newPublisher = Publisher.create(payload)"
   ]
  },
  {
   "cell_type": "markdown",
   "id": "576d2be5-977d-4696-a81a-474caea3aeac",
   "metadata": {},
   "source": [
    "New objects are assigned a unique object ID, which can be used for cross-linking instances of this object with other objects in the triple API.  To verify this object's ID:"
   ]
  },
  {
   "cell_type": "code",
   "execution_count": null,
   "id": "5df8f4df-156a-4ddc-ada2-c1f6a7dc368c",
   "metadata": {},
   "outputs": [],
   "source": [
    "ref = newPublisher.objID\n",
    "print('New publisher ID: %s' % newPublisher.objID)"
   ]
  },
  {
   "cell_type": "markdown",
   "id": "90e2f642-8bbf-4775-9e24-ffcaff313a60",
   "metadata": {},
   "source": [
    "The complete list of a Publisher attributes (or for any TripleObject) can be obtained by using the `listAttributes()` instance method."
   ]
  },
  {
   "cell_type": "code",
   "execution_count": null,
   "id": "599154e4-1f91-4d09-99e3-25c41c26a79f",
   "metadata": {},
   "outputs": [],
   "source": [
    "newPublisher.listAttributes()"
   ]
  },
  {
   "cell_type": "markdown",
   "id": "8f1a84d2-6091-4aff-8644-de9250541959",
   "metadata": {},
   "source": [
    "### Fetching individual objects\n",
    "\n",
    "Use the object ID to grab an individual object:"
   ]
  },
  {
   "cell_type": "code",
   "execution_count": null,
   "id": "acdb1e16-eba8-43fe-b6cb-61f746761188",
   "metadata": {},
   "outputs": [],
   "source": [
    "myPublisher = Publisher.byID(ref)\n",
    "print('%s\\n%s' % (myPublisher.assumedName, myPublisher.address.completeAddress))"
   ]
  },
  {
   "cell_type": "markdown",
   "id": "c802a4db-fc68-41a2-a8f4-18c450aba0e8",
   "metadata": {},
   "source": [
    "### Listing objects\n",
    "\n",
    "The `list()` class method fetches a list of all objects defined in the system.  `list()` methods generate only partial objects, never the complete object.  They are instances of `TripleObject` and code may access their attributes with dot-notation."
   ]
  },
  {
   "cell_type": "code",
   "execution_count": null,
   "id": "43929198-afde-4b83-82af-47198dcd4e1a",
   "metadata": {},
   "outputs": [],
   "source": [
    "import pandas as pd  # We'll use this for pretty printing\n",
    "\n",
    "publishers = Publisher.list()\n",
    "print('total publishers:  %d' % len(publishers))\n",
    "panel = pd.DataFrame([ publisher.__dict__ for publisher in publishers ])\n",
    "panel.index = panel.objID\n",
    "del panel['objID']\n",
    "panel"
   ]
  },
  {
   "cell_type": "markdown",
   "id": "4f2bd720-cdef-48f6-84b7-ce971c2dcf47",
   "metadata": {},
   "source": [
    "### Updating an object\n",
    "\n",
    "The underlying API implementation allows only for some object attributes to be updated.  In the `Publisher` objects case, only the `assumedName` and `address` attributes are modifiable.  The API is straightforward:"
   ]
  },
  {
   "cell_type": "code",
   "execution_count": null,
   "id": "0882b1ef-54ff-4ecb-993e-5d5862cbe1ec",
   "metadata": {},
   "outputs": [],
   "source": [
    "p = Publisher.byID(39)\n",
    "originalName = p.assumedName\n",
    "\n",
    "updatePayload = { 'assumed_name': 'Weyland-Yutani Corporation', }\n",
    "q = Publisher.updateWith(39, updatePayload)\n",
    "assert q.assumedName != p.assumedName\n",
    "\n",
    "print('original name: %s' % originalName)\n",
    "print('new name: %s' % q.assumedName)\n",
    "\n",
    "updatePayload['assumed_name'] = originalName\n",
    "q = Publisher.updateWith(39, updatePayload)\n",
    "assert q.assumedName == p.assumedName\n",
    "print('original name restored')"
   ]
  },
  {
   "cell_type": "markdown",
   "id": "9afad7ab-1aaf-437b-ac7d-ecee12f43b17",
   "metadata": {},
   "source": [
    "---\n",
    "## CardProgram"
   ]
  },
  {
   "cell_type": "code",
   "execution_count": null,
   "id": "e0531864-ad98-4a82-a7ae-8bd3354b2ebc",
   "metadata": {},
   "outputs": [],
   "source": [
    "from coronado.cardprog import CardProgram\n",
    "\n",
    "CardProgram.initialize(config['serviceURL'], auth)"
   ]
  },
  {
   "cell_type": "code",
   "execution_count": null,
   "id": "f58e94d5-792c-4b4f-9525-ea1ab0c549b6",
   "metadata": {},
   "outputs": [],
   "source": [
    "import pandas as pd\n",
    "panel = pd.DataFrame([ p.__dict__ for p in CardProgram.list() ])\n",
    "panel"
   ]
  },
  {
   "cell_type": "code",
   "execution_count": null,
   "id": "87b18730-0e89-42b8-aa40-5cf0ab117fdc",
   "metadata": {},
   "outputs": [],
   "source": [
    "p = CardProgram.list()[0]"
   ]
  },
  {
   "cell_type": "code",
   "execution_count": null,
   "id": "a37b1efa-8254-40d9-a91f-99bbd1b1154c",
   "metadata": {},
   "outputs": [],
   "source": [
    "p.listAttributes()"
   ]
  },
  {
   "cell_type": "markdown",
   "id": "ab508e24-f873-49ac-88d9-1c3d483e3291",
   "metadata": {},
   "source": [
    "---\n",
    "# CardAccount"
   ]
  },
  {
   "cell_type": "code",
   "execution_count": null,
   "id": "d1c9d046-5db2-49ad-97e7-fdaef8029b4f",
   "metadata": {},
   "outputs": [],
   "source": [
    "from coronado.account import CardAccount, CardAccountStatus\n",
    "\n",
    "import pandas as pd"
   ]
  },
  {
   "cell_type": "code",
   "execution_count": null,
   "id": "e495274b-3736-4253-ba5c-5c09262f3d05",
   "metadata": {},
   "outputs": [],
   "source": [
    "CardAccount.initialize(config['serviceURL'], auth)"
   ]
  },
  {
   "cell_type": "code",
   "execution_count": null,
   "id": "9a26fb62-d23c-4c43-8188-7fd37697a47b",
   "metadata": {},
   "outputs": [],
   "source": [
    "panel = pd.DataFrame([ a.__dict__ for a in CardAccount.list() ])\n",
    "panel.index = panel.objID\n",
    "del panel['objID']\n",
    "panel"
   ]
  },
  {
   "cell_type": "code",
   "execution_count": null,
   "id": "6bac1979-41d0-4327-9c7d-403078d4c23c",
   "metadata": {},
   "outputs": [],
   "source": [
    "dir(Publisher)"
   ]
  },
  {
   "cell_type": "code",
   "execution_count": null,
   "id": "77d850bf-6bc6-4d76-aa87-f12eeac31a05",
   "metadata": {},
   "outputs": [],
   "source": [
    "print('Environment: %s; total records: %d' % (Publisher._serviceURL, len(Publisher.list())))"
   ]
  },
  {
   "cell_type": "markdown",
   "id": "cecf9980-069a-447b-80df-f6e139543249",
   "metadata": {},
   "source": [
    "---\n",
    "## Offer display"
   ]
  },
  {
   "cell_type": "code",
   "execution_count": null,
   "id": "2df95e0f-cff9-44d0-a736-0f8e1bd4d8a5",
   "metadata": {},
   "outputs": [],
   "source": [
    "from coronado.auth import loadConfig\n",
    "from coronado.auth import Auth\n",
    "from coronado.display import OfferSearchResult\n",
    "from coronado.display import SERVICE_PATH\n",
    "\n",
    "import pandas as pd\n",
    "\n",
    "config = loadConfig()\n",
    "auth = Auth(tokenURL = config['tokenURL'],\n",
    "            clientID = config['clientID'],\n",
    "            clientSecret = config['secret'])\n",
    "OfferSearchResult.initialize(config['serviceURL'], SERVICE_PATH, auth)"
   ]
  },
  {
   "cell_type": "code",
   "execution_count": null,
   "id": "936fae16-bce9-4ea2-a212-794ad37fd7a2",
   "metadata": {},
   "outputs": [],
   "source": [
    "spec = {\n",
    "    \"proximity_target\": {\n",
    "        \"latitude\": \"40.4604548\",\n",
    "        \"longitude\": \"-79.9215594\",\n",
    "        \"radius\": 35000\n",
    "    },\n",
    "    \"card_account_identifier\": {\n",
    "        \"card_account_id\": '2',\n",
    "    },\n",
    "    \"text_query\": \"italian food\",\n",
    "    \"page_size\": 25,\n",
    "    \"page_offset\": 0,\n",
    "    \"apply_filter\": {\n",
    "        \"type\": \"CARD_LINKED\"\n",
    "    }\n",
    "}\n",
    "offers = OfferSearchResult.forQuery(spec)"
   ]
  },
  {
   "cell_type": "code",
   "execution_count": null,
   "id": "cff7d750-a0c2-45b9-83ca-a38763badbf9",
   "metadata": {},
   "outputs": [],
   "source": [
    "panel = pd.DataFrame([ o.__dict__ for o in offers ])\n",
    "panel.index = panel.objID\n",
    "del panel['objID']\n",
    "panel"
   ]
  },
  {
   "cell_type": "code",
   "execution_count": null,
   "id": "f0b00e3f-435a-43d9-9964-59a30039ad85",
   "metadata": {},
   "outputs": [],
   "source": []
  }
 ],
 "metadata": {
  "kernelspec": {
   "display_name": "Python 3 (ipykernel)",
   "language": "python",
   "name": "python3"
  },
  "language_info": {
   "codemirror_mode": {
    "name": "ipython",
    "version": 3
   },
   "file_extension": ".py",
   "mimetype": "text/x-python",
   "name": "python",
   "nbconvert_exporter": "python",
   "pygments_lexer": "ipython3",
   "version": "3.10.5"
  }
 },
 "nbformat": 4,
 "nbformat_minor": 5
}
