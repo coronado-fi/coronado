{
 "cells": [
  {
   "cell_type": "markdown",
   "id": "7774b8e9-4f02-40ed-b798-4221cfd78262",
   "metadata": {},
   "source": [
    "# Bug report"
   ]
  },
  {
   "cell_type": "code",
   "execution_count": 13,
   "id": "58dba1d0-ccb2-416a-9606-7c2162d84def",
   "metadata": {},
   "outputs": [],
   "source": [
    "from coronado import CoronadoUnprocessableObjectError \n",
    "from coronado.address import Address\n",
    "from coronado.cardaccount import CardAccount\n",
    "from coronado.cardaccount import SERVICE_PATH as CA_SERVICE_PATH\n",
    "from coronado.transaction import Transaction\n",
    "from coronado.transaction import SERVICE_PATH as TX_SERVICE_PATH\n",
    "\n",
    "import json\n",
    "import uuid\n",
    "\n",
    "import coronado.auth as auth\n",
    "\n",
    "conf = auth.loadConfig()\n",
    "auth = auth.Auth(conf['tokenURL'], clientID = conf['clientID'], clientSecret = conf['secret'])\n",
    "\n",
    "CardAccount.initialize(conf['serviceURL'], CA_SERVICE_PATH, auth)\n",
    "Transaction.initialize(conf['serviceURL'], TX_SERVICE_PATH, auth)"
   ]
  },
  {
   "cell_type": "markdown",
   "id": "68f30ff4-c1bb-4edf-b215-54e0674eac59",
   "metadata": {},
   "source": [
    "## Formatting stuff"
   ]
  },
  {
   "cell_type": "code",
   "execution_count": 11,
   "id": "95308cb1-e99f-4496-a6e1-de79383f8832",
   "metadata": {},
   "outputs": [],
   "source": [
    "import pandas as pd  # We'll use this for pretty printing in this document\n",
    "\n",
    "def prettyPrintListOf(tripleClass, indexName = 'objID', **listArgs):\n",
    "    panel = pd.DataFrame([ tripleObject.__dict__ for tripleObject in tripleClass.list(**listArgs) ])\n",
    "    panel.index = panel[indexName]\n",
    "    del panel[indexName]\n",
    "    return panel"
   ]
  },
  {
   "cell_type": "markdown",
   "id": "1721da6c-5535-4faa-a879-ffaaa6ae5b64",
   "metadata": {},
   "source": [
    "## Known values for various initializers"
   ]
  },
  {
   "cell_type": "code",
   "execution_count": 7,
   "id": "d72c7c7a-59e6-4f77-8cdf-c736fb2e9e47",
   "metadata": {},
   "outputs": [],
   "source": [
    "KNOWN_ACCT_EXT_ID = 'pnc-card-69-3149b4780d6f4c2fa21fb45d2637efbb'\n",
    "KNOWN_ACCT_ID = '1270'\n",
    "KNOWN_CARD_PROG_EXT_ID = 'prog-66'\n",
    "KNOWN_PUB_EXTERNAL_ID = '0d7c608a3df5'\n",
    "KNOWN_CARD_ACCT_EXT_ID = 'pnc-card-69-0b10aa350dec4201be3107f7aca060f2'\n",
    "KNOWN_MCC = '0780'"
   ]
  },
  {
   "cell_type": "code",
   "execution_count": 8,
   "id": "6d8f4826-7d59-40a1-b552-6b38e144ce28",
   "metadata": {},
   "outputs": [
    {
     "data": {
      "text/plain": [
       "{'cardProgramID': 'str',\n",
       " 'createdAt': 'str',\n",
       " 'externalID': 'str',\n",
       " 'objID': 'str',\n",
       " 'status': 'str',\n",
       " 'updatedAt': 'str'}"
      ]
     },
     "execution_count": 8,
     "metadata": {},
     "output_type": "execute_result"
    }
   ],
   "source": [
    "CardAccount().listAttributes()"
   ]
  },
  {
   "cell_type": "code",
   "execution_count": 15,
   "id": "21d2b9cd-fd67-4999-998e-c7684b6719bc",
   "metadata": {},
   "outputs": [
    {
     "data": {
      "text/plain": [
       "{'externalID': 'str', 'objID': 'str', 'status': 'str'}"
      ]
     },
     "execution_count": 15,
     "metadata": {},
     "output_type": "execute_result"
    }
   ],
   "source": [
    "CardAccount.list()[0].listAttributes()"
   ]
  },
  {
   "cell_type": "code",
   "execution_count": null,
   "id": "46c9139a-c4bd-47db-a4da-6c248c3fb9da",
   "metadata": {},
   "outputs": [],
   "source": []
  }
 ],
 "metadata": {
  "kernelspec": {
   "display_name": "Python 3 (ipykernel)",
   "language": "python",
   "name": "python3"
  },
  "language_info": {
   "codemirror_mode": {
    "name": "ipython",
    "version": 3
   },
   "file_extension": ".py",
   "mimetype": "text/x-python",
   "name": "python",
   "nbconvert_exporter": "python",
   "pygments_lexer": "ipython3",
   "version": "3.10.5"
  }
 },
 "nbformat": 4,
 "nbformat_minor": 5
}
