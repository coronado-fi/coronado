{
 "cells": [
  {
   "cell_type": "markdown",
   "id": "7774b8e9-4f02-40ed-b798-4221cfd78262",
   "metadata": {},
   "source": [
    "# Bug report"
   ]
  },
  {
   "cell_type": "code",
   "execution_count": 43,
   "id": "58dba1d0-ccb2-416a-9606-7c2162d84def",
   "metadata": {},
   "outputs": [],
   "source": [
    "from coronado import CoronadoUnprocessableObjectError \n",
    "from coronado.address import Address\n",
    "from coronado.cardaccount import CardAccount\n",
    "from coronado.cardaccount import SERVICE_PATH as CA_SERVICE_PATH\n",
    "from coronado.transaction import Transaction\n",
    "from coronado.transaction import SERVICE_PATH as TX_SERVICE_PATH\n",
    "\n",
    "import json\n",
    "import uuid\n",
    "\n",
    "import coronado.auth as auth\n",
    "\n",
    "conf = auth.loadConfig()\n",
    "auth = auth.Auth(conf['tokenURL'], clientID = conf['clientID'], clientSecret = conf['secret'])\n",
    "\n",
    "CardAccount.initialize(conf['serviceURL'], CA_SERVICE_PATH, auth)\n",
    "Transaction.initialize(conf['serviceURL'], TX_SERVICE_PATH, auth)"
   ]
  },
  {
   "cell_type": "code",
   "execution_count": null,
   "id": "d72c7c7a-59e6-4f77-8cdf-c736fb2e9e47",
   "metadata": {},
   "outputs": [],
   "source": []
  }
 ],
 "metadata": {
  "kernelspec": {
   "display_name": "Python 3 (ipykernel)",
   "language": "python",
   "name": "python3"
  },
  "language_info": {
   "codemirror_mode": {
    "name": "ipython",
    "version": 3
   },
   "file_extension": ".py",
   "mimetype": "text/x-python",
   "name": "python",
   "nbconvert_exporter": "python",
   "pygments_lexer": "ipython3",
   "version": "3.10.5"
  }
 },
 "nbformat": 4,
 "nbformat_minor": 5
}
