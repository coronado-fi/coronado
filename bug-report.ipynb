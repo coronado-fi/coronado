{
 "cells": [
  {
   "cell_type": "markdown",
   "id": "7774b8e9-4f02-40ed-b798-4221cfd78262",
   "metadata": {},
   "source": [
    "# Bug report"
   ]
  },
  {
   "cell_type": "code",
   "execution_count": 1,
   "id": "58dba1d0-ccb2-416a-9606-7c2162d84def",
   "metadata": {
    "jupyter": {
     "source_hidden": true
    },
    "tags": []
   },
   "outputs": [],
   "source": [
    "from coronado import CoronadoUnprocessableObjectError \n",
    "from coronado.address import Address\n",
    "from coronado.reward import Reward\n",
    "from coronado.reward import SERVICE_PATH\n",
    "\n",
    "import json\n",
    "import uuid\n",
    "\n",
    "import coronado.auth as auth\n",
    "\n",
    "conf = auth.loadConfig()\n",
    "auth = auth.Auth(conf['tokenURL'], clientID = conf['clientID'], clientSecret = conf['secret'], scope = auth.Scope.CONTENT_PROVIDERS)\n",
    "\n",
    "Reward.initialize(conf['serviceURL'], SERVICE_PATH, auth)"
   ]
  },
  {
   "cell_type": "markdown",
   "id": "68f30ff4-c1bb-4edf-b215-54e0674eac59",
   "metadata": {},
   "source": [
    "## Formatting stuff"
   ]
  },
  {
   "cell_type": "code",
   "execution_count": 2,
   "id": "95308cb1-e99f-4496-a6e1-de79383f8832",
   "metadata": {
    "jupyter": {
     "source_hidden": true
    },
    "tags": []
   },
   "outputs": [],
   "source": [
    "import pandas as pd  # We'll use this for pretty printing in this document\n",
    "\n",
    "def prettyPrintListOf(tripleClass, indexName = 'objID', **listArgs):\n",
    "    panel = pd.DataFrame([ tripleObject.__dict__ for tripleObject in tripleClass.list(**listArgs) ])\n",
    "    panel.index = panel[indexName]\n",
    "    del panel[indexName]\n",
    "    return panel"
   ]
  },
  {
   "cell_type": "markdown",
   "id": "1721da6c-5535-4faa-a879-ffaaa6ae5b64",
   "metadata": {},
   "source": [
    "## Known values for various initializers"
   ]
  },
  {
   "cell_type": "code",
   "execution_count": 3,
   "id": "d72c7c7a-59e6-4f77-8cdf-c736fb2e9e47",
   "metadata": {
    "jupyter": {
     "source_hidden": true
    },
    "tags": []
   },
   "outputs": [],
   "source": [
    "KNOWN_ACCT_EXT_ID = 'pnc-card-69-3149b4780d6f4c2fa21fb45d2637efbb'\n",
    "KNOWN_ACCT_ID = '1270'\n",
    "KNOWN_CARD_PROG_EXT_ID = 'prog-66'\n",
    "KNOWN_PUB_EXTERNAL_ID = '0d7c608a3df5'\n",
    "KNOWN_CARD_ACCT_EXT_ID = 'pnc-card-69-0b10aa350dec4201be3107f7aca060f2'\n",
    "KNOWN_MCC = '0780'"
   ]
  },
  {
   "cell_type": "markdown",
   "id": "144dc788-e252-4495-9b5a-45e6d1e20bc4",
   "metadata": {},
   "source": [
    "# Bug!\n",
    "\n",
    "Based on the workflow semantics and error message, the `/rewards.approve` and `/rewards.deny` services should return a 404 instead of a 422 when receiving invalid `transactionID` or `offerID`.  If any of the required attributes is **missing** then 422 is the correct response."
   ]
  },
  {
   "cell_type": "code",
   "execution_count": 4,
   "id": "855691db-99e0-4dfb-a0bb-834396e9da9d",
   "metadata": {},
   "outputs": [
    {
     "name": "stdout",
     "output_type": "stream",
     "text": [
      "approval result = False\n",
      "service response: {'detail': 'No reward found for transaction_id \"bogus-transaction\" and offer_id \"42\".'}\n"
     ]
    }
   ],
   "source": [
    "result = Reward.approve('bogus-transaction', '42')\n",
    "print('approval result = %s' % result)\n",
    "print('service response: %s' % Reward.responseDDT)"
   ]
  },
  {
   "cell_type": "markdown",
   "id": "8878334d-0500-46fa-9b39-462816a33873",
   "metadata": {},
   "source": [
    "This lead to kludgy code to handle the missing `notes` attribute for the `/rewards.deny` handler -- this code is unnecesary if the service implements the correct 404 / 422 semantics:"
   ]
  },
  {
   "cell_type": "markdown",
   "id": "a5415c15-02e2-4546-9662-5f67fce01638",
   "metadata": {},
   "source": [
    "```python\n",
    "    # TODO: This is a legit 422; the others aren't.\n",
    "    if None == notes and 'deny' == action:\n",
    "        raise CoronadoMalformedObjectError('notes attribute missing or set to None')\n",
    "\n",
    "    if '' == notes and 'deny' == action:\n",
    "        raise CoronadoMalformedObjectError(\n",
    "            'notes attribute must have some text; empty strings disallowed')\n",
    "\n",
    "    endpoint = '/'.join([ klass._serviceURL, 'partner/rewards.%s' % action ])\n",
    "    response = requests.request('POST', endpoint, headers = klass.headers, json = spec)\n",
    "```"
   ]
  },
  {
   "cell_type": "code",
   "execution_count": null,
   "id": "04e13469-8a4f-4e5c-920b-2d4408102a48",
   "metadata": {},
   "outputs": [],
   "source": []
  }
 ],
 "metadata": {
  "kernelspec": {
   "display_name": "Python 3 (ipykernel)",
   "language": "python",
   "name": "python3"
  },
  "language_info": {
   "codemirror_mode": {
    "name": "ipython",
    "version": 3
   },
   "file_extension": ".py",
   "mimetype": "text/x-python",
   "name": "python",
   "nbconvert_exporter": "python",
   "pygments_lexer": "ipython3",
   "version": "3.10.5"
  }
 },
 "nbformat": 4,
 "nbformat_minor": 5
}
