{
 "cells": [
  {
   "cell_type": "markdown",
   "id": "35706d81-f8f7-424b-b57d-74b701ee946c",
   "metadata": {},
   "source": [
    "# Offer Display\n",
    "\n",
    "Execute this notebook after reviewing the **Quickstart guide**."
   ]
  },
  {
   "cell_type": "markdown",
   "id": "d9fb81e5-67ca-4823-b878-08910dc3fe80",
   "metadata": {},
   "source": [
    "## Seting up the tools\n",
    "### Configuration"
   ]
  },
  {
   "cell_type": "code",
   "execution_count": 1,
   "id": "4935aebf-f873-484b-8da0-bfaf7b623ba7",
   "metadata": {},
   "outputs": [],
   "source": [
    "from coronado.auth import loadConfig\n",
    "from coronado.auth import Auth\n",
    "from coronado.display import OfferSearchResult\n",
    "from coronado.display import SEARCH_RPC_SERVICE_PATH\n",
    "\n",
    "import pandas as pd\n",
    "\n",
    "config = loadConfig()\n",
    "auth = Auth(tokenURL = config['tokenURL'],\n",
    "            clientID = config['clientID'],\n",
    "            clientSecret = config['secret'])\n",
    "\n",
    "OfferSearchResult.initialize(config['serviceURL'], SEARCH_RPC_SERVICE_PATH, auth)"
   ]
  },
  {
   "cell_type": "code",
   "execution_count": 2,
   "id": "e394420c-5749-49a9-a814-7a2bbaf31052",
   "metadata": {},
   "outputs": [
    {
     "data": {
      "text/plain": [
       "['CONTENT_PROVIDERS',\n",
       " 'NA',\n",
       " 'PORTFOLIOS',\n",
       " 'PUBLISHERS',\n",
       " 'VIEW_OFFERS',\n",
       " '__class__',\n",
       " '__doc__',\n",
       " '__members__',\n",
       " '__module__']"
      ]
     },
     "execution_count": 2,
     "metadata": {},
     "output_type": "execute_result"
    }
   ],
   "source": [
    "from coronado.auth import Scopes\n",
    "dir(Scopes)"
   ]
  },
  {
   "cell_type": "markdown",
   "id": "885e99c8-0dea-4a53-8c97-c684b5954ac9",
   "metadata": {},
   "source": [
    "## Offers search\n",
    "\n",
    "### Search for offers query"
   ]
  },
  {
   "cell_type": "code",
   "execution_count": 3,
   "id": "e16f1680-5584-4811-9353-25d349c5ab15",
   "metadata": {},
   "outputs": [],
   "source": [
    "query = {\n",
    "    \"proximity_target\": {\n",
    "        \"latitude\": \"40.4604548\",\n",
    "        \"longitude\": \"-79.9215594\",\n",
    "        \"radius\": 35000\n",
    "    },\n",
    "    \"card_account_identifier\": {\n",
    "        \"card_account_id\": '2',\n",
    "    },\n",
    "    \"text_query\": \"italian food\",\n",
    "    \"page_size\": 25,\n",
    "    \"page_offset\": 0,\n",
    "    \"apply_filter\": {\n",
    "        \"type\": \"CARD_LINKED\"\n",
    "    }\n",
    "}"
   ]
  },
  {
   "cell_type": "markdown",
   "id": "98a87468-e588-4328-afb0-8de8b26c755d",
   "metadata": {},
   "source": [
    "### Get the offers"
   ]
  },
  {
   "cell_type": "code",
   "execution_count": 4,
   "id": "808d015f-17b4-494c-96a2-fa1cf6532b01",
   "metadata": {},
   "outputs": [],
   "source": [
    "offers = OfferSearchResult.forQuery(query)"
   ]
  },
  {
   "cell_type": "markdown",
   "id": "369ce7d9-129d-4d4e-a243-6d315fb2983e",
   "metadata": {},
   "source": [
    "### Display the offers"
   ]
  },
  {
   "cell_type": "code",
   "execution_count": 5,
   "id": "5e8a8918-69af-48c6-926f-a2c5e457f5f1",
   "metadata": {},
   "outputs": [
    {
     "data": {
      "text/html": [
       "<div>\n",
       "<style scoped>\n",
       "    .dataframe tbody tr th:only-of-type {\n",
       "        vertical-align: middle;\n",
       "    }\n",
       "\n",
       "    .dataframe tbody tr th {\n",
       "        vertical-align: top;\n",
       "    }\n",
       "\n",
       "    .dataframe thead th {\n",
       "        text-align: right;\n",
       "    }\n",
       "</style>\n",
       "<table border=\"1\" class=\"dataframe\">\n",
       "  <thead>\n",
       "    <tr style=\"text-align: right;\">\n",
       "      <th></th>\n",
       "      <th>externalID</th>\n",
       "      <th>type</th>\n",
       "      <th>currencyCode</th>\n",
       "      <th>merchantName</th>\n",
       "      <th>merchantLogoURL</th>\n",
       "      <th>headline</th>\n",
       "      <th>tripleCategoryName</th>\n",
       "      <th>categoryTags</th>\n",
       "      <th>offerMode</th>\n",
       "      <th>rewardRate</th>\n",
       "      <th>effectiveDate</th>\n",
       "      <th>minimumSpend</th>\n",
       "      <th>activationRequired</th>\n",
       "      <th>isActivated</th>\n",
       "      <th>nearestLocation</th>\n",
       "      <th>score</th>\n",
       "    </tr>\n",
       "    <tr>\n",
       "      <th>objID</th>\n",
       "      <th></th>\n",
       "      <th></th>\n",
       "      <th></th>\n",
       "      <th></th>\n",
       "      <th></th>\n",
       "      <th></th>\n",
       "      <th></th>\n",
       "      <th></th>\n",
       "      <th></th>\n",
       "      <th></th>\n",
       "      <th></th>\n",
       "      <th></th>\n",
       "      <th></th>\n",
       "      <th></th>\n",
       "      <th></th>\n",
       "      <th></th>\n",
       "    </tr>\n",
       "  </thead>\n",
       "  <tbody>\n",
       "    <tr>\n",
       "      <th>2833</th>\n",
       "      <td>137736</td>\n",
       "      <td>CARD_LINKED</td>\n",
       "      <td>USD</td>\n",
       "      <td>Capri Pizzeria and Bar</td>\n",
       "      <td>https://d34ye2dnwzj2t5.cloudfront.net/62zil3fc...</td>\n",
       "      <td>5% back at Capri Pizzeria and Bar</td>\n",
       "      <td>FOOD</td>\n",
       "      <td>Catering, Delivery Services, Grocery Stores, R...</td>\n",
       "      <td>IN_PERSON</td>\n",
       "      <td>5.0</td>\n",
       "      <td>2022-04-26</td>\n",
       "      <td>0.0</td>\n",
       "      <td>False</td>\n",
       "      <td>True</td>\n",
       "      <td>&lt;coronado.TripleObject object at 0xffffa7375c60&gt;</td>\n",
       "      <td>101.261</td>\n",
       "    </tr>\n",
       "    <tr>\n",
       "      <th>6814</th>\n",
       "      <td>153113</td>\n",
       "      <td>CARD_LINKED</td>\n",
       "      <td>USD</td>\n",
       "      <td>Mola</td>\n",
       "      <td>https://d34ye2dnwzj2t5.cloudfront.net/yx5c52gd...</td>\n",
       "      <td>5% back at Mola</td>\n",
       "      <td>FOOD</td>\n",
       "      <td>Catering, Delivery Services, Grocery Stores, R...</td>\n",
       "      <td>IN_PERSON</td>\n",
       "      <td>5.0</td>\n",
       "      <td>2022-04-26</td>\n",
       "      <td>0.0</td>\n",
       "      <td>False</td>\n",
       "      <td>True</td>\n",
       "      <td>&lt;coronado.TripleObject object at 0xffffa7375d80&gt;</td>\n",
       "      <td>99.40563</td>\n",
       "    </tr>\n",
       "    <tr>\n",
       "      <th>4930</th>\n",
       "      <td>148578</td>\n",
       "      <td>CARD_LINKED</td>\n",
       "      <td>USD</td>\n",
       "      <td>Patron Mexican Grill - Pittsburgh</td>\n",
       "      <td>https://d34ye2dnwzj2t5.cloudfront.net/ht7gq576...</td>\n",
       "      <td>5% back at Patron Mexican Grill - Pittsburgh</td>\n",
       "      <td>FOOD</td>\n",
       "      <td>Catering, Delivery Services, Grocery Stores, R...</td>\n",
       "      <td>IN_PERSON</td>\n",
       "      <td>5.0</td>\n",
       "      <td>2022-04-26</td>\n",
       "      <td>0.0</td>\n",
       "      <td>False</td>\n",
       "      <td>True</td>\n",
       "      <td>&lt;coronado.TripleObject object at 0xffff6f49d630&gt;</td>\n",
       "      <td>99.199715</td>\n",
       "    </tr>\n",
       "    <tr>\n",
       "      <th>5567</th>\n",
       "      <td>146429</td>\n",
       "      <td>CARD_LINKED</td>\n",
       "      <td>USD</td>\n",
       "      <td>Fish nor Fowl</td>\n",
       "      <td>https://d34ye2dnwzj2t5.cloudfront.net/rptd3m3b...</td>\n",
       "      <td>5% back at Fish nor Fowl</td>\n",
       "      <td>FOOD</td>\n",
       "      <td>Catering, Delivery Services, Grocery Stores, R...</td>\n",
       "      <td>IN_PERSON</td>\n",
       "      <td>5.0</td>\n",
       "      <td>2022-04-26</td>\n",
       "      <td>0.0</td>\n",
       "      <td>False</td>\n",
       "      <td>True</td>\n",
       "      <td>&lt;coronado.TripleObject object at 0xffff6f49d810&gt;</td>\n",
       "      <td>97.437004</td>\n",
       "    </tr>\n",
       "    <tr>\n",
       "      <th>4862</th>\n",
       "      <td>149953</td>\n",
       "      <td>CARD_LINKED</td>\n",
       "      <td>USD</td>\n",
       "      <td>Yoshino</td>\n",
       "      <td>https://d34ye2dnwzj2t5.cloudfront.net/ekv7kvsr...</td>\n",
       "      <td>5% back at Yoshino</td>\n",
       "      <td>FOOD</td>\n",
       "      <td>Catering, Delivery Services, Grocery Stores, R...</td>\n",
       "      <td>IN_PERSON</td>\n",
       "      <td>5.0</td>\n",
       "      <td>2022-04-26</td>\n",
       "      <td>0.0</td>\n",
       "      <td>False</td>\n",
       "      <td>True</td>\n",
       "      <td>&lt;coronado.TripleObject object at 0xffff6f49d840&gt;</td>\n",
       "      <td>96.864395</td>\n",
       "    </tr>\n",
       "  </tbody>\n",
       "</table>\n",
       "</div>"
      ],
      "text/plain": [
       "      externalID         type currencyCode                       merchantName  \\\n",
       "objID                                                                           \n",
       "2833      137736  CARD_LINKED          USD             Capri Pizzeria and Bar   \n",
       "6814      153113  CARD_LINKED          USD                               Mola   \n",
       "4930      148578  CARD_LINKED          USD  Patron Mexican Grill - Pittsburgh   \n",
       "5567      146429  CARD_LINKED          USD                      Fish nor Fowl   \n",
       "4862      149953  CARD_LINKED          USD                            Yoshino   \n",
       "\n",
       "                                         merchantLogoURL  \\\n",
       "objID                                                      \n",
       "2833   https://d34ye2dnwzj2t5.cloudfront.net/62zil3fc...   \n",
       "6814   https://d34ye2dnwzj2t5.cloudfront.net/yx5c52gd...   \n",
       "4930   https://d34ye2dnwzj2t5.cloudfront.net/ht7gq576...   \n",
       "5567   https://d34ye2dnwzj2t5.cloudfront.net/rptd3m3b...   \n",
       "4862   https://d34ye2dnwzj2t5.cloudfront.net/ekv7kvsr...   \n",
       "\n",
       "                                           headline tripleCategoryName  \\\n",
       "objID                                                                    \n",
       "2833              5% back at Capri Pizzeria and Bar               FOOD   \n",
       "6814                                5% back at Mola               FOOD   \n",
       "4930   5% back at Patron Mexican Grill - Pittsburgh               FOOD   \n",
       "5567                       5% back at Fish nor Fowl               FOOD   \n",
       "4862                             5% back at Yoshino               FOOD   \n",
       "\n",
       "                                            categoryTags  offerMode  \\\n",
       "objID                                                                 \n",
       "2833   Catering, Delivery Services, Grocery Stores, R...  IN_PERSON   \n",
       "6814   Catering, Delivery Services, Grocery Stores, R...  IN_PERSON   \n",
       "4930   Catering, Delivery Services, Grocery Stores, R...  IN_PERSON   \n",
       "5567   Catering, Delivery Services, Grocery Stores, R...  IN_PERSON   \n",
       "4862   Catering, Delivery Services, Grocery Stores, R...  IN_PERSON   \n",
       "\n",
       "      rewardRate effectiveDate minimumSpend  activationRequired  isActivated  \\\n",
       "objID                                                                          \n",
       "2833         5.0    2022-04-26          0.0               False         True   \n",
       "6814         5.0    2022-04-26          0.0               False         True   \n",
       "4930         5.0    2022-04-26          0.0               False         True   \n",
       "5567         5.0    2022-04-26          0.0               False         True   \n",
       "4862         5.0    2022-04-26          0.0               False         True   \n",
       "\n",
       "                                        nearestLocation      score  \n",
       "objID                                                               \n",
       "2833   <coronado.TripleObject object at 0xffffa7375c60>    101.261  \n",
       "6814   <coronado.TripleObject object at 0xffffa7375d80>   99.40563  \n",
       "4930   <coronado.TripleObject object at 0xffff6f49d630>  99.199715  \n",
       "5567   <coronado.TripleObject object at 0xffff6f49d810>  97.437004  \n",
       "4862   <coronado.TripleObject object at 0xffff6f49d840>  96.864395  "
      ]
     },
     "execution_count": 5,
     "metadata": {},
     "output_type": "execute_result"
    }
   ],
   "source": [
    "panel = pd.DataFrame([ o.__dict__ for o in offers ])\n",
    "panel.index = panel.objID\n",
    "del panel['objID']\n",
    "panel.head(5)"
   ]
  },
  {
   "cell_type": "markdown",
   "id": "5afb3d4d-d023-4303-8879-d476c24c7b6c",
   "metadata": {},
   "source": [
    "---\n",
    "## Grab an offer"
   ]
  },
  {
   "cell_type": "markdown",
   "id": "da4ab9a0-73fa-4875-8019-e28e1f8261f9",
   "metadata": {},
   "source": [
    "### Configure the CLOfferDisplay class"
   ]
  },
  {
   "cell_type": "code",
   "execution_count": 6,
   "id": "daf7465e-fdb4-4924-b680-6b86fdf19269",
   "metadata": {},
   "outputs": [],
   "source": [
    "from coronado.display import CardLinkedOfferDetails as CLOfferDetails\n",
    "from coronado.display import FETCH_RPC_SERVICE_PATH\n",
    "\n",
    "CLOfferDetails.initialize(config['serviceURL'], FETCH_RPC_SERVICE_PATH, auth)"
   ]
  },
  {
   "cell_type": "markdown",
   "id": "0338ade7-6637-4401-8d36-263a03a53693",
   "metadata": {},
   "source": [
    "### Prepare the offer details spec"
   ]
  },
  {
   "cell_type": "code",
   "execution_count": 7,
   "id": "e0a09728-6b3a-4d81-a25e-87015ce32dcf",
   "metadata": {},
   "outputs": [],
   "source": [
    "spec = {\n",
    "    \"proximity_target\": {\n",
    "        \"latitude\": \"40.4604548\",\n",
    "        \"longitude\": \"-79.9215594\",\n",
    "        \"radius\": 35000\n",
    "    },\n",
    "    \"card_account_identifier\": {\n",
    "        \"card_account_id\": '2'\n",
    "    },\n",
    "}"
   ]
  },
  {
   "cell_type": "markdown",
   "id": "5053f1d5-63d8-4329-8ccc-e31f405d16d8",
   "metadata": {},
   "source": [
    "### Fetch the object\n",
    "\n",
    "We can pick an object ID from the full list search results; they're supposed to be valid"
   ]
  },
  {
   "cell_type": "code",
   "execution_count": 8,
   "id": "ad9a50ff-716b-4d12-9d89-0e136de80188",
   "metadata": {},
   "outputs": [],
   "source": [
    "offerID = '4930'\n",
    "offerDetails = CLOfferDetails.forID(offerID, spec)"
   ]
  },
  {
   "cell_type": "markdown",
   "id": "db6e45c3-ee6a-4472-828e-2887d49ea35b",
   "metadata": {},
   "source": [
    "### View the details"
   ]
  },
  {
   "cell_type": "code",
   "execution_count": 9,
   "id": "b045bbd1-f4f4-4560-8427-4ca09c0e5912",
   "metadata": {},
   "outputs": [
    {
     "data": {
      "text/plain": [
       "{'activationRequired': 'bool',\n",
       " 'categoryTags': 'str',\n",
       " 'currencyCode': 'str',\n",
       " 'description': 'str',\n",
       " 'effectiveDate': 'str',\n",
       " 'externalID': 'str',\n",
       " 'headline': 'str',\n",
       " 'isActivated': 'bool',\n",
       " 'merchantCategoryCode': 'coronado.merchant.MerchantCategoryCode',\n",
       " 'merchantLogoURL': 'str',\n",
       " 'merchantName': 'str',\n",
       " 'minimumSpend': 'str',\n",
       " 'objID': 'str',\n",
       " 'offerMode': 'enum OfferDeliveryModes',\n",
       " 'rewardRate': 'str',\n",
       " 'terms': 'str',\n",
       " 'tripleCategoryName': 'enum OfferCategory',\n",
       " 'type': 'enum OfferType'}"
      ]
     },
     "execution_count": 9,
     "metadata": {},
     "output_type": "execute_result"
    }
   ],
   "source": [
    "offerDetails.offer.listAttributes()"
   ]
  },
  {
   "cell_type": "code",
   "execution_count": 10,
   "id": "4bc2a309-9c60-4d3b-abb6-992241f54c2a",
   "metadata": {},
   "outputs": [
    {
     "name": "stdout",
     "output_type": "stream",
     "text": [
      "activationRequired       : False\n",
      "categoryTags             : Catering, Delivery Services, Grocery Stores, Restaurants\n",
      "currencyCode             : USD\n",
      "description              : Patron Mexican Grill is a locally-owned and business built b... <snip>\n",
      "effectiveDate            : 2022-04-26\n",
      "externalID               : 148578\n",
      "headline                 : 5% back at Patron Mexican Grill - Pittsburgh\n",
      "isActivated              : True\n",
      "merchantCategoryCode     : 5812: Eating places and restaurants\n",
      "merchantLogoURL          : https://d34ye2dnwzj2t5.cloudfront.net/ht7gq5762ngijkmh6afnpw... <snip>\n",
      "merchantName             : Patron Mexican Grill - Pittsburgh\n",
      "minimumSpend             : 0.0\n",
      "objID                    : 4930\n",
      "offerMode                : IN_PERSON\n",
      "rewardRate               : 5.0\n",
      "terms                    : Unlimited Visits; cashback awarded on qualifying dines up to... <snip>\n",
      "tripleCategoryName       : FOOD\n",
      "type                     : CARD_LINKED\n"
     ]
    }
   ],
   "source": [
    "keys = sorted(offerDetails.offer.__dict__.keys())\n",
    "for k in keys:\n",
    "    v = offerDetails.offer.__dict__[k]\n",
    "    if isinstance(v, str) and len(v) > 60:\n",
    "        print('%-25s: %s... <snip>' % (k, v[:60]))\n",
    "    else:\n",
    "        print('%-25s: %s' % (k, v))"
   ]
  },
  {
   "cell_type": "code",
   "execution_count": 11,
   "id": "5bc5d190-0a14-4141-b9ae-438d06e72eb0",
   "metadata": {},
   "outputs": [
    {
     "data": {
      "text/plain": [
       "{'address': 'coronado.address.Address',\n",
       " 'isOnline': 'bool',\n",
       " 'objID': 'str',\n",
       " 'phoneNumber': 'str'}"
      ]
     },
     "execution_count": 11,
     "metadata": {},
     "output_type": "execute_result"
    }
   ],
   "source": [
    "merchantLocation = (offerDetails.merchantLocations[0])\n",
    "merchantLocation.listAttributes()"
   ]
  },
  {
   "cell_type": "code",
   "execution_count": 12,
   "id": "2ad0ef84-17a8-4876-8b24-2cac039d0dd0",
   "metadata": {},
   "outputs": [
    {
     "name": "stdout",
     "output_type": "stream",
     "text": [
      "address                  : 135 S Highland Ave  Pittsburgh, PA 15206\n",
      "isOnline                 : False\n",
      "objID                    : 4932\n",
      "phoneNumber              : 4124412111\n"
     ]
    }
   ],
   "source": [
    "keys = sorted(merchantLocation.__dict__.keys())\n",
    "for k in keys:\n",
    "    if k != 'address':\n",
    "        print('%-25s: %s' % (k, merchantLocation.__dict__[k]))\n",
    "    else:\n",
    "        print('%-25s: %s' %(k, merchantLocation.address.complete.replace('\\n', '  ')))"
   ]
  },
  {
   "cell_type": "code",
   "execution_count": 14,
   "id": "a8c7de17-7efe-4ca0-bdec-5334ef97a344",
   "metadata": {},
   "outputs": [
    {
     "name": "stdout",
     "output_type": "stream",
     "text": [
      "<coronado.display.CardLinkedOffer object at 0xffff6f49ef80>\n"
     ]
    }
   ],
   "source": [
    "print(offerDetails.offer)"
   ]
  },
  {
   "cell_type": "code",
   "execution_count": null,
   "id": "d3e8050a-58f3-471e-999a-710ebd20bc48",
   "metadata": {},
   "outputs": [],
   "source": []
  }
 ],
 "metadata": {
  "kernelspec": {
   "display_name": "Python 3 (ipykernel)",
   "language": "python",
   "name": "python3"
  },
  "language_info": {
   "codemirror_mode": {
    "name": "ipython",
    "version": 3
   },
   "file_extension": ".py",
   "mimetype": "text/x-python",
   "name": "python",
   "nbconvert_exporter": "python",
   "pygments_lexer": "ipython3",
   "version": "3.10.5"
  }
 },
 "nbformat": 4,
 "nbformat_minor": 5
}
