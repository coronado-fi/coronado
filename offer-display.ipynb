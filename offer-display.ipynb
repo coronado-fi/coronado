{
 "cells": [
  {
   "cell_type": "markdown",
   "id": "35706d81-f8f7-424b-b57d-74b701ee946c",
   "metadata": {},
   "source": [
    "# Offer Display\n",
    "\n",
    "Execute this notebook after reviewing the **Quickstart guide**."
   ]
  },
  {
   "cell_type": "markdown",
   "id": "d9fb81e5-67ca-4823-b878-08910dc3fe80",
   "metadata": {},
   "source": [
    "## Seting up the tools\n",
    "### Configuration"
   ]
  },
  {
   "cell_type": "code",
   "execution_count": 1,
   "id": "4935aebf-f873-484b-8da0-bfaf7b623ba7",
   "metadata": {},
   "outputs": [],
   "source": [
    "from coronado.auth import loadConfig\n",
    "from coronado.auth import Auth\n",
    "from coronado.display import OfferSearchResult\n",
    "from coronado.display import OfferType\n",
    "from coronado.display import SEARCH_RPC_SERVICE_PATH\n",
    "\n",
    "import pandas as pd\n",
    "\n",
    "config = loadConfig()\n",
    "auth = Auth(tokenURL = config['tokenURL'],\n",
    "            clientID = config['clientID'],\n",
    "            clientSecret = config['secret'])\n",
    "\n",
    "OfferSearchResult.initialize(config['serviceURL'], SEARCH_RPC_SERVICE_PATH, auth)"
   ]
  },
  {
   "cell_type": "code",
   "execution_count": 2,
   "id": "e394420c-5749-49a9-a814-7a2bbaf31052",
   "metadata": {},
   "outputs": [
    {
     "data": {
      "text/plain": [
       "['CONTENT_PROVIDERS',\n",
       " 'NA',\n",
       " 'PORTFOLIOS',\n",
       " 'PUBLISHERS',\n",
       " 'VIEW_OFFERS',\n",
       " '__class__',\n",
       " '__doc__',\n",
       " '__members__',\n",
       " '__module__']"
      ]
     },
     "execution_count": 2,
     "metadata": {},
     "output_type": "execute_result"
    }
   ],
   "source": [
    "from coronado.auth import Scope\n",
    "dir(Scope)"
   ]
  },
  {
   "cell_type": "markdown",
   "id": "885e99c8-0dea-4a53-8c97-c684b5954ac9",
   "metadata": {},
   "source": [
    "## Offers search\n",
    "\n",
    "### Search for offers query"
   ]
  },
  {
   "cell_type": "code",
   "execution_count": 3,
   "id": "e16f1680-5584-4811-9353-25d349c5ab15",
   "metadata": {},
   "outputs": [],
   "source": [
    "query = {\n",
    "    \"proximity_target\": {\n",
    "        \"latitude\": \"40.4604548\",\n",
    "        \"longitude\": \"-79.9215594\",\n",
    "        \"radius\": 35000\n",
    "    },\n",
    "    \"card_account_identifier\": {\n",
    "        \"card_account_id\": '2',\n",
    "    },\n",
    "    \"text_query\": \"italian food\",\n",
    "    \"page_size\": 25,\n",
    "    \"page_offset\": 0,\n",
    "    \"apply_filter\": {\n",
    "        \"type\": \"CARD_LINKED\"\n",
    "    }\n",
    "}"
   ]
  },
  {
   "cell_type": "markdown",
   "id": "98a87468-e588-4328-afb0-8de8b26c755d",
   "metadata": {},
   "source": [
    "### Get the offers"
   ]
  },
  {
   "cell_type": "code",
   "execution_count": 4,
   "id": "808d015f-17b4-494c-96a2-fa1cf6532b01",
   "metadata": {},
   "outputs": [],
   "source": [
    "offers = OfferSearchResult.queryWith(\n",
    "    cardAccountID = '1270',\n",
    "    filterType = OfferType.CARD_LINKED,\n",
    "    latitude = 40.46,\n",
    "    longitude = -79.92,\n",
    "    pageSize = 25,\n",
    "    pageOffset = 0,\n",
    "    radius = 35000,\n",
    "    textQuery = 'italian food')"
   ]
  },
  {
   "cell_type": "markdown",
   "id": "369ce7d9-129d-4d4e-a243-6d315fb2983e",
   "metadata": {},
   "source": [
    "### Display the offers"
   ]
  },
  {
   "cell_type": "code",
   "execution_count": 5,
   "id": "5e8a8918-69af-48c6-926f-a2c5e457f5f1",
   "metadata": {},
   "outputs": [
    {
     "data": {
      "text/html": [
       "<div>\n",
       "<style scoped>\n",
       "    .dataframe tbody tr th:only-of-type {\n",
       "        vertical-align: middle;\n",
       "    }\n",
       "\n",
       "    .dataframe tbody tr th {\n",
       "        vertical-align: top;\n",
       "    }\n",
       "\n",
       "    .dataframe thead th {\n",
       "        text-align: right;\n",
       "    }\n",
       "</style>\n",
       "<table border=\"1\" class=\"dataframe\">\n",
       "  <thead>\n",
       "    <tr style=\"text-align: right;\">\n",
       "      <th></th>\n",
       "      <th>externalID</th>\n",
       "      <th>type</th>\n",
       "      <th>currencyCode</th>\n",
       "      <th>merchantID</th>\n",
       "      <th>merchantName</th>\n",
       "      <th>merchantLogoURL</th>\n",
       "      <th>headline</th>\n",
       "      <th>tripleCategoryName</th>\n",
       "      <th>categoryTags</th>\n",
       "      <th>offerMode</th>\n",
       "      <th>rewardRate</th>\n",
       "      <th>effectiveDate</th>\n",
       "      <th>minimumSpend</th>\n",
       "      <th>activationRequired</th>\n",
       "      <th>isActivated</th>\n",
       "      <th>nearestLocation</th>\n",
       "      <th>score</th>\n",
       "    </tr>\n",
       "    <tr>\n",
       "      <th>objID</th>\n",
       "      <th></th>\n",
       "      <th></th>\n",
       "      <th></th>\n",
       "      <th></th>\n",
       "      <th></th>\n",
       "      <th></th>\n",
       "      <th></th>\n",
       "      <th></th>\n",
       "      <th></th>\n",
       "      <th></th>\n",
       "      <th></th>\n",
       "      <th></th>\n",
       "      <th></th>\n",
       "      <th></th>\n",
       "      <th></th>\n",
       "      <th></th>\n",
       "      <th></th>\n",
       "    </tr>\n",
       "  </thead>\n",
       "  <tbody>\n",
       "    <tr>\n",
       "      <th>2590</th>\n",
       "      <td>137736</td>\n",
       "      <td>CARD_LINKED</td>\n",
       "      <td>USD</td>\n",
       "      <td>2590</td>\n",
       "      <td>Capri Pizzeria and Bar</td>\n",
       "      <td>https://dsqze93rovfg.cloudfront.net/cqudn5dz5n...</td>\n",
       "      <td>5% back at Capri Pizzeria and Bar</td>\n",
       "      <td>FOOD</td>\n",
       "      <td>Catering, Delivery Services, Grocery Stores, R...</td>\n",
       "      <td>IN_PERSON</td>\n",
       "      <td>5.0</td>\n",
       "      <td>2022-04-26</td>\n",
       "      <td>0.0</td>\n",
       "      <td>False</td>\n",
       "      <td>True</td>\n",
       "      <td>\\naddress    : \\ncity                  : Pitts...</td>\n",
       "      <td>100.74663</td>\n",
       "    </tr>\n",
       "    <tr>\n",
       "      <th>7520</th>\n",
       "      <td>153113</td>\n",
       "      <td>CARD_LINKED</td>\n",
       "      <td>USD</td>\n",
       "      <td>7521</td>\n",
       "      <td>Mola</td>\n",
       "      <td>https://dsqze93rovfg.cloudfront.net/gjxatmhv4r...</td>\n",
       "      <td>5% back at Mola</td>\n",
       "      <td>FOOD</td>\n",
       "      <td>Catering, Delivery Services, Grocery Stores, R...</td>\n",
       "      <td>IN_PERSON</td>\n",
       "      <td>5.0</td>\n",
       "      <td>2022-04-26</td>\n",
       "      <td>0.0</td>\n",
       "      <td>False</td>\n",
       "      <td>True</td>\n",
       "      <td>\\naddress    : \\ncity                  : Pitts...</td>\n",
       "      <td>98.99881</td>\n",
       "    </tr>\n",
       "    <tr>\n",
       "      <th>5747</th>\n",
       "      <td>148578</td>\n",
       "      <td>CARD_LINKED</td>\n",
       "      <td>USD</td>\n",
       "      <td>5747</td>\n",
       "      <td>Patron Mexican Grill - Pittsburgh</td>\n",
       "      <td>https://dsqze93rovfg.cloudfront.net/euueredmwz...</td>\n",
       "      <td>5% back at Patron Mexican Grill - Pittsburgh</td>\n",
       "      <td>FOOD</td>\n",
       "      <td>Catering, Delivery Services, Grocery Stores, R...</td>\n",
       "      <td>IN_PERSON</td>\n",
       "      <td>5.0</td>\n",
       "      <td>2022-04-26</td>\n",
       "      <td>0.0</td>\n",
       "      <td>False</td>\n",
       "      <td>True</td>\n",
       "      <td>\\naddress    : \\ncity                  : Pitts...</td>\n",
       "      <td>98.82128</td>\n",
       "    </tr>\n",
       "    <tr>\n",
       "      <th>4734</th>\n",
       "      <td>146429</td>\n",
       "      <td>CARD_LINKED</td>\n",
       "      <td>USD</td>\n",
       "      <td>4734</td>\n",
       "      <td>Fish nor Fowl</td>\n",
       "      <td>https://dsqze93rovfg.cloudfront.net/4glvst3wof...</td>\n",
       "      <td>5% back at Fish nor Fowl</td>\n",
       "      <td>FOOD</td>\n",
       "      <td>Catering, Delivery Services, Grocery Stores, R...</td>\n",
       "      <td>IN_PERSON</td>\n",
       "      <td>5.0</td>\n",
       "      <td>2022-04-26</td>\n",
       "      <td>0.0</td>\n",
       "      <td>False</td>\n",
       "      <td>True</td>\n",
       "      <td>\\naddress    : \\ncity                  : Pitts...</td>\n",
       "      <td>97.055595</td>\n",
       "    </tr>\n",
       "    <tr>\n",
       "      <th>5662</th>\n",
       "      <td>149953</td>\n",
       "      <td>CARD_LINKED</td>\n",
       "      <td>USD</td>\n",
       "      <td>5663</td>\n",
       "      <td>Yoshino</td>\n",
       "      <td>https://dsqze93rovfg.cloudfront.net/th4gysfpon...</td>\n",
       "      <td>5% back at Yoshino</td>\n",
       "      <td>FOOD</td>\n",
       "      <td>Catering, Delivery Services, Grocery Stores, R...</td>\n",
       "      <td>IN_PERSON</td>\n",
       "      <td>5.0</td>\n",
       "      <td>2022-04-26</td>\n",
       "      <td>0.0</td>\n",
       "      <td>False</td>\n",
       "      <td>True</td>\n",
       "      <td>\\naddress    : \\ncity                  : Pitts...</td>\n",
       "      <td>96.68617</td>\n",
       "    </tr>\n",
       "  </tbody>\n",
       "</table>\n",
       "</div>"
      ],
      "text/plain": [
       "      externalID         type currencyCode merchantID  \\\n",
       "objID                                                   \n",
       "2590      137736  CARD_LINKED          USD       2590   \n",
       "7520      153113  CARD_LINKED          USD       7521   \n",
       "5747      148578  CARD_LINKED          USD       5747   \n",
       "4734      146429  CARD_LINKED          USD       4734   \n",
       "5662      149953  CARD_LINKED          USD       5663   \n",
       "\n",
       "                            merchantName  \\\n",
       "objID                                      \n",
       "2590              Capri Pizzeria and Bar   \n",
       "7520                                Mola   \n",
       "5747   Patron Mexican Grill - Pittsburgh   \n",
       "4734                       Fish nor Fowl   \n",
       "5662                             Yoshino   \n",
       "\n",
       "                                         merchantLogoURL  \\\n",
       "objID                                                      \n",
       "2590   https://dsqze93rovfg.cloudfront.net/cqudn5dz5n...   \n",
       "7520   https://dsqze93rovfg.cloudfront.net/gjxatmhv4r...   \n",
       "5747   https://dsqze93rovfg.cloudfront.net/euueredmwz...   \n",
       "4734   https://dsqze93rovfg.cloudfront.net/4glvst3wof...   \n",
       "5662   https://dsqze93rovfg.cloudfront.net/th4gysfpon...   \n",
       "\n",
       "                                           headline tripleCategoryName  \\\n",
       "objID                                                                    \n",
       "2590              5% back at Capri Pizzeria and Bar               FOOD   \n",
       "7520                                5% back at Mola               FOOD   \n",
       "5747   5% back at Patron Mexican Grill - Pittsburgh               FOOD   \n",
       "4734                       5% back at Fish nor Fowl               FOOD   \n",
       "5662                             5% back at Yoshino               FOOD   \n",
       "\n",
       "                                            categoryTags  offerMode  \\\n",
       "objID                                                                 \n",
       "2590   Catering, Delivery Services, Grocery Stores, R...  IN_PERSON   \n",
       "7520   Catering, Delivery Services, Grocery Stores, R...  IN_PERSON   \n",
       "5747   Catering, Delivery Services, Grocery Stores, R...  IN_PERSON   \n",
       "4734   Catering, Delivery Services, Grocery Stores, R...  IN_PERSON   \n",
       "5662   Catering, Delivery Services, Grocery Stores, R...  IN_PERSON   \n",
       "\n",
       "      rewardRate effectiveDate minimumSpend  activationRequired  isActivated  \\\n",
       "objID                                                                          \n",
       "2590         5.0    2022-04-26          0.0               False         True   \n",
       "7520         5.0    2022-04-26          0.0               False         True   \n",
       "5747         5.0    2022-04-26          0.0               False         True   \n",
       "4734         5.0    2022-04-26          0.0               False         True   \n",
       "5662         5.0    2022-04-26          0.0               False         True   \n",
       "\n",
       "                                         nearestLocation      score  \n",
       "objID                                                                \n",
       "2590   \\naddress    : \\ncity                  : Pitts...  100.74663  \n",
       "7520   \\naddress    : \\ncity                  : Pitts...   98.99881  \n",
       "5747   \\naddress    : \\ncity                  : Pitts...   98.82128  \n",
       "4734   \\naddress    : \\ncity                  : Pitts...  97.055595  \n",
       "5662   \\naddress    : \\ncity                  : Pitts...   96.68617  "
      ]
     },
     "execution_count": 5,
     "metadata": {},
     "output_type": "execute_result"
    }
   ],
   "source": [
    "panel = pd.DataFrame([ o.__dict__ for o in offers ])\n",
    "panel.index = panel.objID\n",
    "del panel['objID']\n",
    "panel.head(5)"
   ]
  },
  {
   "cell_type": "markdown",
   "id": "5afb3d4d-d023-4303-8879-d476c24c7b6c",
   "metadata": {},
   "source": [
    "---\n",
    "## Grab an offer"
   ]
  },
  {
   "cell_type": "markdown",
   "id": "da4ab9a0-73fa-4875-8019-e28e1f8261f9",
   "metadata": {},
   "source": [
    "### Configure the CLOfferDisplay class"
   ]
  },
  {
   "cell_type": "code",
   "execution_count": 6,
   "id": "daf7465e-fdb4-4924-b680-6b86fdf19269",
   "metadata": {},
   "outputs": [],
   "source": [
    "from coronado.display import CardholderOfferDetails as CLOfferDetails\n",
    "from coronado.display import FETCH_RPC_SERVICE_PATH\n",
    "\n",
    "CLOfferDetails.initialize(config['serviceURL'], FETCH_RPC_SERVICE_PATH, auth)"
   ]
  },
  {
   "cell_type": "markdown",
   "id": "0338ade7-6637-4401-8d36-263a03a53693",
   "metadata": {},
   "source": [
    "### Prepare the offer details spec"
   ]
  },
  {
   "cell_type": "code",
   "execution_count": 7,
   "id": "e0a09728-6b3a-4d81-a25e-87015ce32dcf",
   "metadata": {},
   "outputs": [],
   "source": [
    "spec = {\n",
    "    \"proximity_target\": {\n",
    "        \"latitude\": \"40.4604548\",\n",
    "        \"longitude\": \"-79.9215594\",\n",
    "        \"radius\": 35000\n",
    "    },\n",
    "    \"card_account_identifier\": {\n",
    "        \"card_account_id\": '1270'\n",
    "    },\n",
    "}"
   ]
  },
  {
   "cell_type": "markdown",
   "id": "5053f1d5-63d8-4329-8ccc-e31f405d16d8",
   "metadata": {},
   "source": [
    "### Fetch the object\n",
    "\n",
    "We can pick an object ID from the full list search results; they're supposed to be valid"
   ]
  },
  {
   "cell_type": "code",
   "execution_count": 8,
   "id": "ad9a50ff-716b-4d12-9d89-0e136de80188",
   "metadata": {},
   "outputs": [],
   "source": [
    "offerID = '4862'\n",
    "offerDetails = CLOfferDetails.forID(offerID, spec = spec)"
   ]
  },
  {
   "cell_type": "markdown",
   "id": "db6e45c3-ee6a-4472-828e-2887d49ea35b",
   "metadata": {},
   "source": [
    "### View the details"
   ]
  },
  {
   "cell_type": "code",
   "execution_count": 9,
   "id": "b045bbd1-f4f4-4560-8427-4ca09c0e5912",
   "metadata": {},
   "outputs": [
    {
     "data": {
      "text/plain": [
       "{'activationRequired': 'bool',\n",
       " 'categoryTags': 'str',\n",
       " 'currencyCode': 'str',\n",
       " 'description': 'str',\n",
       " 'effectiveDate': 'str',\n",
       " 'externalID': 'str',\n",
       " 'headline': 'str',\n",
       " 'isActivated': 'bool',\n",
       " 'merchantCategoryCode': 'coronado.merchant.MerchantCategoryCode',\n",
       " 'merchantID': 'str',\n",
       " 'merchantLogoURL': 'str',\n",
       " 'merchantName': 'str',\n",
       " 'minimumSpend': 'str',\n",
       " 'objID': 'str',\n",
       " 'offerMode': 'enum OfferDeliveryMode',\n",
       " 'rewardRate': 'str',\n",
       " 'rewardType': 'str',\n",
       " 'terms': 'str',\n",
       " 'tripleCategoryName': 'enum OfferCategory',\n",
       " 'type': 'enum OfferType'}"
      ]
     },
     "execution_count": 9,
     "metadata": {},
     "output_type": "execute_result"
    }
   ],
   "source": [
    "offerDetails.offer.listAttributes()"
   ]
  },
  {
   "cell_type": "code",
   "execution_count": 10,
   "id": "4bc2a309-9c60-4d3b-abb6-992241f54c2a",
   "metadata": {},
   "outputs": [
    {
     "name": "stdout",
     "output_type": "stream",
     "text": [
      "\n",
      "activationRequired  : False\n",
      "categoryTags        : Catering, Delivery Services, Grocery Stores, Restaurants\n",
      "currencyCode        : USD\n",
      "description         : With a family-friendly vibe and fabulous food, when you're i... <snip>\n",
      "effectiveDate       : 2022-04-26\n",
      "externalID          : 146939\n",
      "headline            : 5% back at Giovanni's Pizzeria & Italian Restaurant\n",
      "isActivated         : True\n",
      "merchantCategoryCode: 5812: Eating places and restaurants\n",
      "merchantID          : 4861\n",
      "merchantLogoURL     : https://dsqze93rovfg.cloudfront.net/rri3bgvlufd2npzezpuemiyp... <snip>\n",
      "merchantName        : Giovanni's Pizzeria & Italian Restaurant\n",
      "minimumSpend        : 0.0\n",
      "objID               : 4862\n",
      "offerMode           : IN_PERSON\n",
      "rewardRate          : 5.0\n",
      "rewardType          : PERCENTAGE\n",
      "terms               : Unlimited Visits; cashback awarded on qualifying dines up to... <snip>\n",
      "tripleCategoryName  : FOOD\n",
      "type                : CARD_LINKED\n"
     ]
    }
   ],
   "source": [
    "print(offerDetails.offer)"
   ]
  },
  {
   "cell_type": "code",
   "execution_count": 11,
   "id": "8184eb5c-d1c3-486e-b15e-1f01dd450362",
   "metadata": {},
   "outputs": [
    {
     "data": {
      "text/plain": [
       "'146939'"
      ]
     },
     "execution_count": 11,
     "metadata": {},
     "output_type": "execute_result"
    }
   ],
   "source": [
    "offerDetails.offer.externalID"
   ]
  },
  {
   "cell_type": "code",
   "execution_count": 12,
   "id": "5bc5d190-0a14-4141-b9ae-438d06e72eb0",
   "metadata": {},
   "outputs": [
    {
     "data": {
      "text/plain": [
       "{'address': 'coronado.address.Address', 'objID': 'str', 'phoneNumber': 'str'}"
      ]
     },
     "execution_count": 12,
     "metadata": {},
     "output_type": "execute_result"
    }
   ],
   "source": [
    "merchantLocation = (offerDetails.merchantLocations[0])\n",
    "merchantLocation.listAttributes()"
   ]
  },
  {
   "cell_type": "code",
   "execution_count": 13,
   "id": "2ad0ef84-17a8-4876-8b24-2cac039d0dd0",
   "metadata": {},
   "outputs": [
    {
     "name": "stdout",
     "output_type": "stream",
     "text": [
      "\n",
      "address    : 208 Holland Rd\n",
      "HOLLAND, PA 18966\n",
      "UNITED STATES\n",
      "objID      : 5657\n",
      "phoneNumber: 2159422900\n"
     ]
    }
   ],
   "source": [
    "print(merchantLocation)"
   ]
  },
  {
   "cell_type": "code",
   "execution_count": null,
   "id": "d3e8050a-58f3-471e-999a-710ebd20bc48",
   "metadata": {},
   "outputs": [],
   "source": []
  }
 ],
 "metadata": {
  "kernelspec": {
   "display_name": "Python 3 (ipykernel)",
   "language": "python",
   "name": "python3"
  },
  "language_info": {
   "codemirror_mode": {
    "name": "ipython",
    "version": 3
   },
   "file_extension": ".py",
   "mimetype": "text/x-python",
   "name": "python",
   "nbconvert_exporter": "python",
   "pygments_lexer": "ipython3",
   "version": "3.10.5"
  }
 },
 "nbformat": 4,
 "nbformat_minor": 5
}
