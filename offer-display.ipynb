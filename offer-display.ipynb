{
 "cells": [
  {
   "cell_type": "markdown",
   "id": "35706d81-f8f7-424b-b57d-74b701ee946c",
   "metadata": {},
   "source": [
    "# Offer Display"
   ]
  },
  {
   "cell_type": "markdown",
   "id": "d9fb81e5-67ca-4823-b878-08910dc3fe80",
   "metadata": {},
   "source": [
    "## Seting up the tools\n",
    "### Configuration"
   ]
  },
  {
   "cell_type": "code",
   "execution_count": 4,
   "id": "54c5c3ff-0df5-4967-9220-280459d2bf19",
   "metadata": {},
   "outputs": [
    {
     "data": {
      "application/json": {
       "clientID": "1vuf251isjddphm0824l30j18r",
       "clientName": "sandbox-coronado-demo",
       "secret": "1c98oqtidlnqtk386vqhnesnl7nunucjhr7abf2h5pcc16tauv4h",
       "serviceURL": "https://api.sandbox.tripleup.dev",
       "tokenURL": "https://auth.sandbox.tripleup.dev/oauth2/token"
      },
      "text/plain": [
       "<IPython.core.display.JSON object>"
      ]
     },
     "execution_count": 4,
     "metadata": {
      "application/json": {
       "expanded": false,
       "root": "root"
      }
     },
     "output_type": "execute_result"
    }
   ],
   "source": [
    "from IPython import display\n",
    "import json\n",
    "\n",
    "with open('/home/jovyan/.config/coronado/config.json') as inputStream:\n",
    "    c = inputStream.read()\n",
    "display.JSON(json.loads(c))"
   ]
  },
  {
   "cell_type": "code",
   "execution_count": 5,
   "id": "4935aebf-f873-484b-8da0-bfaf7b623ba7",
   "metadata": {},
   "outputs": [],
   "source": [
    "from coronado.auth import loadConfig\n",
    "from coronado.auth import Auth\n",
    "from coronado.display import OfferSearchResult\n",
    "from coronado.display import SEARCH_RPC_SERVICE_PATH\n",
    "\n",
    "import pandas as pd\n",
    "\n",
    "config = loadConfig()\n",
    "auth = Auth(tokenURL = config['tokenURL'],\n",
    "            clientID = config['clientID'],\n",
    "            clientSecret = config['secret'])\n",
    "\n",
    "OfferSearchResult.initialize(config['serviceURL'], SEARCH_RPC_SERVICE_PATH, auth)"
   ]
  },
  {
   "cell_type": "code",
   "execution_count": 8,
   "id": "e394420c-5749-49a9-a814-7a2bbaf31052",
   "metadata": {},
   "outputs": [
    {
     "data": {
      "text/plain": [
       "['CONTENT_PROVIDERS',\n",
       " 'NA',\n",
       " 'PORTFOLIOS',\n",
       " 'PUBLISHERS',\n",
       " 'VIEW_OFFERS',\n",
       " '__class__',\n",
       " '__doc__',\n",
       " '__members__',\n",
       " '__module__']"
      ]
     },
     "execution_count": 8,
     "metadata": {},
     "output_type": "execute_result"
    }
   ],
   "source": [
    "from coronado.auth import Scopes\n",
    "dir(Scopes)"
   ]
  },
  {
   "cell_type": "markdown",
   "id": "885e99c8-0dea-4a53-8c97-c684b5954ac9",
   "metadata": {},
   "source": [
    "## Offers search\n",
    "\n",
    "### Search for offers query"
   ]
  },
  {
   "cell_type": "code",
   "execution_count": 9,
   "id": "e16f1680-5584-4811-9353-25d349c5ab15",
   "metadata": {},
   "outputs": [],
   "source": [
    "query = {\n",
    "    \"proximity_target\": {\n",
    "        \"latitude\": \"40.4604548\",\n",
    "        \"longitude\": \"-79.9215594\",\n",
    "        \"radius\": 35000\n",
    "    },\n",
    "    \"card_account_identifier\": {\n",
    "        \"card_account_id\": '2',\n",
    "    },\n",
    "    \"text_query\": \"italian food\",\n",
    "    \"page_size\": 25,\n",
    "    \"page_offset\": 0,\n",
    "    \"apply_filter\": {\n",
    "        \"type\": \"CARD_LINKED\"\n",
    "    }\n",
    "}"
   ]
  },
  {
   "cell_type": "markdown",
   "id": "98a87468-e588-4328-afb0-8de8b26c755d",
   "metadata": {},
   "source": [
    "### Get the offers"
   ]
  },
  {
   "cell_type": "code",
   "execution_count": 10,
   "id": "808d015f-17b4-494c-96a2-fa1cf6532b01",
   "metadata": {},
   "outputs": [],
   "source": [
    "offers = OfferSearchResult.forQuery(query)"
   ]
  },
  {
   "cell_type": "markdown",
   "id": "369ce7d9-129d-4d4e-a243-6d315fb2983e",
   "metadata": {},
   "source": [
    "### Display the offers"
   ]
  },
  {
   "cell_type": "code",
   "execution_count": 11,
   "id": "5e8a8918-69af-48c6-926f-a2c5e457f5f1",
   "metadata": {},
   "outputs": [
    {
     "data": {
      "text/html": [
       "<div>\n",
       "<style scoped>\n",
       "    .dataframe tbody tr th:only-of-type {\n",
       "        vertical-align: middle;\n",
       "    }\n",
       "\n",
       "    .dataframe tbody tr th {\n",
       "        vertical-align: top;\n",
       "    }\n",
       "\n",
       "    .dataframe thead th {\n",
       "        text-align: right;\n",
       "    }\n",
       "</style>\n",
       "<table border=\"1\" class=\"dataframe\">\n",
       "  <thead>\n",
       "    <tr style=\"text-align: right;\">\n",
       "      <th></th>\n",
       "      <th>externalID</th>\n",
       "      <th>type</th>\n",
       "      <th>currencyCode</th>\n",
       "      <th>merchantName</th>\n",
       "      <th>merchantLogoUrl</th>\n",
       "      <th>headline</th>\n",
       "      <th>tripleCategoryName</th>\n",
       "      <th>categoryTags</th>\n",
       "      <th>offerMode</th>\n",
       "      <th>rewardRate</th>\n",
       "      <th>effectiveDate</th>\n",
       "      <th>minimumSpend</th>\n",
       "      <th>activationRequired</th>\n",
       "      <th>isActivated</th>\n",
       "      <th>nearestLocation</th>\n",
       "      <th>score</th>\n",
       "    </tr>\n",
       "    <tr>\n",
       "      <th>objID</th>\n",
       "      <th></th>\n",
       "      <th></th>\n",
       "      <th></th>\n",
       "      <th></th>\n",
       "      <th></th>\n",
       "      <th></th>\n",
       "      <th></th>\n",
       "      <th></th>\n",
       "      <th></th>\n",
       "      <th></th>\n",
       "      <th></th>\n",
       "      <th></th>\n",
       "      <th></th>\n",
       "      <th></th>\n",
       "      <th></th>\n",
       "      <th></th>\n",
       "    </tr>\n",
       "  </thead>\n",
       "  <tbody>\n",
       "    <tr>\n",
       "      <th>2833</th>\n",
       "      <td>137736</td>\n",
       "      <td>CARD_LINKED</td>\n",
       "      <td>USD</td>\n",
       "      <td>Capri Pizzeria and Bar</td>\n",
       "      <td>https://d34ye2dnwzj2t5.cloudfront.net/62zil3fc...</td>\n",
       "      <td>5% back at Capri Pizzeria and Bar</td>\n",
       "      <td>FOOD</td>\n",
       "      <td>Catering, Delivery Services, Grocery Stores, R...</td>\n",
       "      <td>IN_PERSON</td>\n",
       "      <td>5.0</td>\n",
       "      <td>2022-04-26</td>\n",
       "      <td>0.0</td>\n",
       "      <td>False</td>\n",
       "      <td>True</td>\n",
       "      <td>&lt;coronado.TripleObject object at 0x7fbfa0f85b70&gt;</td>\n",
       "      <td>101.26312</td>\n",
       "    </tr>\n",
       "    <tr>\n",
       "      <th>6814</th>\n",
       "      <td>153113</td>\n",
       "      <td>CARD_LINKED</td>\n",
       "      <td>USD</td>\n",
       "      <td>Mola</td>\n",
       "      <td>https://d34ye2dnwzj2t5.cloudfront.net/yx5c52gd...</td>\n",
       "      <td>5% back at Mola</td>\n",
       "      <td>FOOD</td>\n",
       "      <td>Catering, Delivery Services, Grocery Stores, R...</td>\n",
       "      <td>IN_PERSON</td>\n",
       "      <td>5.0</td>\n",
       "      <td>2022-04-26</td>\n",
       "      <td>0.0</td>\n",
       "      <td>False</td>\n",
       "      <td>True</td>\n",
       "      <td>&lt;coronado.TripleObject object at 0x7fbfa0f85ba0&gt;</td>\n",
       "      <td>99.407295</td>\n",
       "    </tr>\n",
       "    <tr>\n",
       "      <th>4930</th>\n",
       "      <td>148578</td>\n",
       "      <td>CARD_LINKED</td>\n",
       "      <td>USD</td>\n",
       "      <td>Patron Mexican Grill - Pittsburgh</td>\n",
       "      <td>https://d34ye2dnwzj2t5.cloudfront.net/ht7gq576...</td>\n",
       "      <td>5% back at Patron Mexican Grill - Pittsburgh</td>\n",
       "      <td>FOOD</td>\n",
       "      <td>Catering, Delivery Services, Grocery Stores, R...</td>\n",
       "      <td>IN_PERSON</td>\n",
       "      <td>5.0</td>\n",
       "      <td>2022-04-26</td>\n",
       "      <td>0.0</td>\n",
       "      <td>False</td>\n",
       "      <td>True</td>\n",
       "      <td>&lt;coronado.TripleObject object at 0x7fbfa0f85060&gt;</td>\n",
       "      <td>99.19834</td>\n",
       "    </tr>\n",
       "    <tr>\n",
       "      <th>5567</th>\n",
       "      <td>146429</td>\n",
       "      <td>CARD_LINKED</td>\n",
       "      <td>USD</td>\n",
       "      <td>Fish nor Fowl</td>\n",
       "      <td>https://d34ye2dnwzj2t5.cloudfront.net/rptd3m3b...</td>\n",
       "      <td>5% back at Fish nor Fowl</td>\n",
       "      <td>FOOD</td>\n",
       "      <td>Catering, Delivery Services, Grocery Stores, R...</td>\n",
       "      <td>IN_PERSON</td>\n",
       "      <td>5.0</td>\n",
       "      <td>2022-04-26</td>\n",
       "      <td>0.0</td>\n",
       "      <td>False</td>\n",
       "      <td>True</td>\n",
       "      <td>&lt;coronado.TripleObject object at 0x7fbfa0f85900&gt;</td>\n",
       "      <td>97.43861</td>\n",
       "    </tr>\n",
       "    <tr>\n",
       "      <th>4862</th>\n",
       "      <td>149953</td>\n",
       "      <td>CARD_LINKED</td>\n",
       "      <td>USD</td>\n",
       "      <td>Yoshino</td>\n",
       "      <td>https://d34ye2dnwzj2t5.cloudfront.net/ekv7kvsr...</td>\n",
       "      <td>5% back at Yoshino</td>\n",
       "      <td>FOOD</td>\n",
       "      <td>Catering, Delivery Services, Grocery Stores, R...</td>\n",
       "      <td>IN_PERSON</td>\n",
       "      <td>5.0</td>\n",
       "      <td>2022-04-26</td>\n",
       "      <td>0.0</td>\n",
       "      <td>False</td>\n",
       "      <td>True</td>\n",
       "      <td>&lt;coronado.TripleObject object at 0x7fbfa0f864d0&gt;</td>\n",
       "      <td>96.86406</td>\n",
       "    </tr>\n",
       "  </tbody>\n",
       "</table>\n",
       "</div>"
      ],
      "text/plain": [
       "      externalID         type currencyCode                       merchantName  \\\n",
       "objID                                                                           \n",
       "2833      137736  CARD_LINKED          USD             Capri Pizzeria and Bar   \n",
       "6814      153113  CARD_LINKED          USD                               Mola   \n",
       "4930      148578  CARD_LINKED          USD  Patron Mexican Grill - Pittsburgh   \n",
       "5567      146429  CARD_LINKED          USD                      Fish nor Fowl   \n",
       "4862      149953  CARD_LINKED          USD                            Yoshino   \n",
       "\n",
       "                                         merchantLogoUrl  \\\n",
       "objID                                                      \n",
       "2833   https://d34ye2dnwzj2t5.cloudfront.net/62zil3fc...   \n",
       "6814   https://d34ye2dnwzj2t5.cloudfront.net/yx5c52gd...   \n",
       "4930   https://d34ye2dnwzj2t5.cloudfront.net/ht7gq576...   \n",
       "5567   https://d34ye2dnwzj2t5.cloudfront.net/rptd3m3b...   \n",
       "4862   https://d34ye2dnwzj2t5.cloudfront.net/ekv7kvsr...   \n",
       "\n",
       "                                           headline tripleCategoryName  \\\n",
       "objID                                                                    \n",
       "2833              5% back at Capri Pizzeria and Bar               FOOD   \n",
       "6814                                5% back at Mola               FOOD   \n",
       "4930   5% back at Patron Mexican Grill - Pittsburgh               FOOD   \n",
       "5567                       5% back at Fish nor Fowl               FOOD   \n",
       "4862                             5% back at Yoshino               FOOD   \n",
       "\n",
       "                                            categoryTags  offerMode  \\\n",
       "objID                                                                 \n",
       "2833   Catering, Delivery Services, Grocery Stores, R...  IN_PERSON   \n",
       "6814   Catering, Delivery Services, Grocery Stores, R...  IN_PERSON   \n",
       "4930   Catering, Delivery Services, Grocery Stores, R...  IN_PERSON   \n",
       "5567   Catering, Delivery Services, Grocery Stores, R...  IN_PERSON   \n",
       "4862   Catering, Delivery Services, Grocery Stores, R...  IN_PERSON   \n",
       "\n",
       "      rewardRate effectiveDate minimumSpend  activationRequired  isActivated  \\\n",
       "objID                                                                          \n",
       "2833         5.0    2022-04-26          0.0               False         True   \n",
       "6814         5.0    2022-04-26          0.0               False         True   \n",
       "4930         5.0    2022-04-26          0.0               False         True   \n",
       "5567         5.0    2022-04-26          0.0               False         True   \n",
       "4862         5.0    2022-04-26          0.0               False         True   \n",
       "\n",
       "                                        nearestLocation      score  \n",
       "objID                                                               \n",
       "2833   <coronado.TripleObject object at 0x7fbfa0f85b70>  101.26312  \n",
       "6814   <coronado.TripleObject object at 0x7fbfa0f85ba0>  99.407295  \n",
       "4930   <coronado.TripleObject object at 0x7fbfa0f85060>   99.19834  \n",
       "5567   <coronado.TripleObject object at 0x7fbfa0f85900>   97.43861  \n",
       "4862   <coronado.TripleObject object at 0x7fbfa0f864d0>   96.86406  "
      ]
     },
     "execution_count": 11,
     "metadata": {},
     "output_type": "execute_result"
    }
   ],
   "source": [
    "panel = pd.DataFrame([ o.__dict__ for o in offers ])\n",
    "panel.index = panel.objID\n",
    "del panel['objID']\n",
    "panel.head(5)"
   ]
  },
  {
   "cell_type": "markdown",
   "id": "5afb3d4d-d023-4303-8879-d476c24c7b6c",
   "metadata": {},
   "source": [
    "---\n",
    "## Grab an offer"
   ]
  },
  {
   "cell_type": "markdown",
   "id": "da4ab9a0-73fa-4875-8019-e28e1f8261f9",
   "metadata": {},
   "source": [
    "### Configure the CLOfferDisplay class"
   ]
  },
  {
   "cell_type": "code",
   "execution_count": 12,
   "id": "daf7465e-fdb4-4924-b680-6b86fdf19269",
   "metadata": {},
   "outputs": [],
   "source": [
    "from coronado.display import CLOfferDetails\n",
    "from coronado.display import FETCH_RPC_SERVICE_PATH\n",
    "\n",
    "CLOfferDetails.initialize(config['serviceURL'], FETCH_RPC_SERVICE_PATH, auth)"
   ]
  },
  {
   "cell_type": "markdown",
   "id": "0338ade7-6637-4401-8d36-263a03a53693",
   "metadata": {},
   "source": [
    "### Prepare the offer details spec"
   ]
  },
  {
   "cell_type": "code",
   "execution_count": 13,
   "id": "e0a09728-6b3a-4d81-a25e-87015ce32dcf",
   "metadata": {},
   "outputs": [],
   "source": [
    "spec = {\n",
    "    \"proximity_target\": {\n",
    "        \"latitude\": \"40.4604548\",\n",
    "        \"longitude\": \"-79.9215594\",\n",
    "        \"radius\": 35000\n",
    "    },\n",
    "    \"card_account_identifier\": {\n",
    "        \"card_account_id\": '2'\n",
    "    },\n",
    "}"
   ]
  },
  {
   "cell_type": "markdown",
   "id": "5053f1d5-63d8-4329-8ccc-e31f405d16d8",
   "metadata": {},
   "source": [
    "### Fetch the object\n",
    "\n",
    "We can pick an object ID from the full list search results; they're supposed to be valid"
   ]
  },
  {
   "cell_type": "code",
   "execution_count": 15,
   "id": "ad9a50ff-716b-4d12-9d89-0e136de80188",
   "metadata": {},
   "outputs": [],
   "source": [
    "offerID = '4930'\n",
    "offerDetails = CLOfferDetails.forID(offerID, spec)"
   ]
  },
  {
   "cell_type": "markdown",
   "id": "db6e45c3-ee6a-4472-828e-2887d49ea35b",
   "metadata": {},
   "source": [
    "### View the details"
   ]
  },
  {
   "cell_type": "code",
   "execution_count": 16,
   "id": "07bed21d-d68e-4099-97fd-b61efd608507",
   "metadata": {},
   "outputs": [
    {
     "data": {
      "text/plain": [
       "coronado.display.CLOfferDetails"
      ]
     },
     "execution_count": 16,
     "metadata": {},
     "output_type": "execute_result"
    }
   ],
   "source": [
    "type(offerDetails)"
   ]
  },
  {
   "cell_type": "code",
   "execution_count": 18,
   "id": "b045bbd1-f4f4-4560-8427-4ca09c0e5912",
   "metadata": {},
   "outputs": [
    {
     "data": {
      "text/plain": [
       "{'activationRequired': 'bool',\n",
       " 'categoryTags': 'str',\n",
       " 'currencyCode': 'str',\n",
       " 'description': 'str',\n",
       " 'effectiveDate': 'str',\n",
       " 'externalID': 'str',\n",
       " 'headline': 'str',\n",
       " 'isActivated': 'bool',\n",
       " 'merchantCategoryCode': 'coronado.merchant.MerchantCategoryCode',\n",
       " 'merchantLogoUrl': 'str',\n",
       " 'merchantName': 'str',\n",
       " 'minimumSpend': 'str',\n",
       " 'objID': 'str',\n",
       " 'offerMode': 'str',\n",
       " 'rewardRate': 'str',\n",
       " 'terms': 'str',\n",
       " 'tripleCategoryName': 'str',\n",
       " 'type': 'str'}"
      ]
     },
     "execution_count": 18,
     "metadata": {},
     "output_type": "execute_result"
    }
   ],
   "source": [
    "offerDetails.offer.listAttributes()"
   ]
  },
  {
   "cell_type": "code",
   "execution_count": 19,
   "id": "1764e9f2-775d-4e24-8846-2772cca294a5",
   "metadata": {},
   "outputs": [
    {
     "data": {
      "text/plain": [
       "[<coronado.display.MerchantLocations at 0x7fbf356f1ab0>]"
      ]
     },
     "execution_count": 19,
     "metadata": {},
     "output_type": "execute_result"
    }
   ],
   "source": [
    "offerDetails.merchantLocations"
   ]
  },
  {
   "cell_type": "code",
   "execution_count": 20,
   "id": "d5b79db6-39e2-4adb-a581-ab63d3aebf26",
   "metadata": {},
   "outputs": [
    {
     "data": {
      "text/plain": [
       "{'address': 'coronado.address.Address',\n",
       " 'isOnline': 'bool',\n",
       " 'objID': 'str',\n",
       " 'phoneNumber': 'str'}"
      ]
     },
     "execution_count": 20,
     "metadata": {},
     "output_type": "execute_result"
    }
   ],
   "source": [
    "offerDetails.merchantLocations[0].listAttributes()"
   ]
  },
  {
   "cell_type": "code",
   "execution_count": 22,
   "id": "cad513bd-f1a2-4a55-b0b8-077d1990d5cf",
   "metadata": {},
   "outputs": [
    {
     "data": {
      "text/plain": [
       "<coronado.address.Address at 0x7fbf356f2740>"
      ]
     },
     "execution_count": 22,
     "metadata": {},
     "output_type": "execute_result"
    }
   ],
   "source": [
    "a = offerDetails.merchantLocations[0].address\n",
    "a"
   ]
  },
  {
   "cell_type": "code",
   "execution_count": null,
   "id": "df8c4fbd-36fc-4a17-9ec7-87c00635ac78",
   "metadata": {},
   "outputs": [],
   "source": [
    "a.complete"
   ]
  },
  {
   "cell_type": "code",
   "execution_count": null,
   "id": "848da540-9f5a-430e-95da-e9dc4f9344cd",
   "metadata": {},
   "outputs": [],
   "source": [
    "a.completeAddress"
   ]
  },
  {
   "cell_type": "code",
   "execution_count": null,
   "id": "e69e7788-37cf-488f-b11b-93bee502e9b8",
   "metadata": {},
   "outputs": [],
   "source": [
    "print(a)"
   ]
  },
  {
   "cell_type": "code",
   "execution_count": null,
   "id": "db25b998-9f48-4056-8832-300227a1aeb3",
   "metadata": {},
   "outputs": [],
   "source": [
    "offerDetails.offer.terms"
   ]
  },
  {
   "cell_type": "code",
   "execution_count": null,
   "id": "0f8748a1-0761-4ea4-83db-9b5417dac685",
   "metadata": {},
   "outputs": [],
   "source": [
    "from coronado import TripleObject"
   ]
  },
  {
   "cell_type": "code",
   "execution_count": null,
   "id": "acbb3baf-d781-4a08-be09-75a0cf8cea60",
   "metadata": {},
   "outputs": [],
   "source": [
    "j = '{ \\\n",
    "    \"name\": \"Tom\", \\\n",
    "    \"surname\": \"Cruise\" \\\n",
    "}'"
   ]
  },
  {
   "cell_type": "code",
   "execution_count": null,
   "id": "71bd1101-1b9f-4faf-914d-2d58d37ea873",
   "metadata": {},
   "outputs": [],
   "source": [
    "t = TripleObject(j)"
   ]
  },
  {
   "cell_type": "code",
   "execution_count": null,
   "id": "b3567640-3d3d-4b08-a3fb-c5967c22ae6c",
   "metadata": {},
   "outputs": [],
   "source": [
    "t.listAttributes()"
   ]
  },
  {
   "cell_type": "code",
   "execution_count": null,
   "id": "91e03003-ec36-4f6a-86d7-bd9afb367fef",
   "metadata": {},
   "outputs": [],
   "source": [
    "t.name"
   ]
  },
  {
   "cell_type": "code",
   "execution_count": null,
   "id": "2faa8b68-a056-478d-b3a3-610c7e0f405a",
   "metadata": {},
   "outputs": [],
   "source": []
  }
 ],
 "metadata": {
  "kernelspec": {
   "display_name": "Python 3 (ipykernel)",
   "language": "python",
   "name": "python3"
  },
  "language_info": {
   "codemirror_mode": {
    "name": "ipython",
    "version": 3
   },
   "file_extension": ".py",
   "mimetype": "text/x-python",
   "name": "python",
   "nbconvert_exporter": "python",
   "pygments_lexer": "ipython3",
   "version": "3.10.5"
  }
 },
 "nbformat": 4,
 "nbformat_minor": 5
}
