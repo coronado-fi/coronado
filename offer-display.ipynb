{
 "cells": [
  {
   "cell_type": "markdown",
   "id": "35706d81-f8f7-424b-b57d-74b701ee946c",
   "metadata": {},
   "source": [
    "# Offer Display\n",
    "\n",
    "Execute this notebook after reviewing the **Quickstart guide**."
   ]
  },
  {
   "cell_type": "markdown",
   "id": "d9fb81e5-67ca-4823-b878-08910dc3fe80",
   "metadata": {},
   "source": [
    "## Seting up the tools\n",
    "### Configuration"
   ]
  },
  {
   "cell_type": "code",
   "execution_count": 1,
   "id": "4935aebf-f873-484b-8da0-bfaf7b623ba7",
   "metadata": {},
   "outputs": [],
   "source": [
    "from coronado.auth import loadConfig\n",
    "from coronado.auth import Auth\n",
    "from coronado.display import OfferSearchResult\n",
    "from coronado.display import SEARCH_RPC_SERVICE_PATH\n",
    "\n",
    "import pandas as pd\n",
    "\n",
    "config = loadConfig()\n",
    "auth = Auth(tokenURL = config['tokenURL'],\n",
    "            clientID = config['clientID'],\n",
    "            clientSecret = config['secret'])\n",
    "\n",
    "OfferSearchResult.initialize(config['serviceURL'], SEARCH_RPC_SERVICE_PATH, auth)"
   ]
  },
  {
   "cell_type": "code",
   "execution_count": 2,
   "id": "e394420c-5749-49a9-a814-7a2bbaf31052",
   "metadata": {},
   "outputs": [
    {
     "data": {
      "text/plain": [
       "['CONTENT_PROVIDERS',\n",
       " 'NA',\n",
       " 'PORTFOLIOS',\n",
       " 'PUBLISHERS',\n",
       " 'VIEW_OFFERS',\n",
       " '__class__',\n",
       " '__doc__',\n",
       " '__members__',\n",
       " '__module__']"
      ]
     },
     "execution_count": 2,
     "metadata": {},
     "output_type": "execute_result"
    }
   ],
   "source": [
    "from coronado.auth import Scopes\n",
    "dir(Scopes)"
   ]
  },
  {
   "cell_type": "markdown",
   "id": "885e99c8-0dea-4a53-8c97-c684b5954ac9",
   "metadata": {},
   "source": [
    "## Offers search\n",
    "\n",
    "### Search for offers query"
   ]
  },
  {
   "cell_type": "code",
   "execution_count": 3,
   "id": "e16f1680-5584-4811-9353-25d349c5ab15",
   "metadata": {},
   "outputs": [],
   "source": [
    "query = {\n",
    "    \"proximity_target\": {\n",
    "        \"latitude\": \"40.4604548\",\n",
    "        \"longitude\": \"-79.9215594\",\n",
    "        \"radius\": 35000\n",
    "    },\n",
    "    \"card_account_identifier\": {\n",
    "        \"card_account_id\": '2',\n",
    "    },\n",
    "    \"text_query\": \"italian food\",\n",
    "    \"page_size\": 25,\n",
    "    \"page_offset\": 0,\n",
    "    \"apply_filter\": {\n",
    "        \"type\": \"CARD_LINKED\"\n",
    "    }\n",
    "}"
   ]
  },
  {
   "cell_type": "markdown",
   "id": "98a87468-e588-4328-afb0-8de8b26c755d",
   "metadata": {},
   "source": [
    "### Get the offers"
   ]
  },
  {
   "cell_type": "code",
   "execution_count": 4,
   "id": "808d015f-17b4-494c-96a2-fa1cf6532b01",
   "metadata": {},
   "outputs": [],
   "source": [
    "offers = OfferSearchResult.forQuery(query)"
   ]
  },
  {
   "cell_type": "markdown",
   "id": "369ce7d9-129d-4d4e-a243-6d315fb2983e",
   "metadata": {},
   "source": [
    "### Display the offers"
   ]
  },
  {
   "cell_type": "code",
   "execution_count": 5,
   "id": "5e8a8918-69af-48c6-926f-a2c5e457f5f1",
   "metadata": {},
   "outputs": [
    {
     "data": {
      "text/html": [
       "<div>\n",
       "<style scoped>\n",
       "    .dataframe tbody tr th:only-of-type {\n",
       "        vertical-align: middle;\n",
       "    }\n",
       "\n",
       "    .dataframe tbody tr th {\n",
       "        vertical-align: top;\n",
       "    }\n",
       "\n",
       "    .dataframe thead th {\n",
       "        text-align: right;\n",
       "    }\n",
       "</style>\n",
       "<table border=\"1\" class=\"dataframe\">\n",
       "  <thead>\n",
       "    <tr style=\"text-align: right;\">\n",
       "      <th></th>\n",
       "      <th>externalID</th>\n",
       "      <th>type</th>\n",
       "      <th>currencyCode</th>\n",
       "      <th>merchantName</th>\n",
       "      <th>merchantLogoURL</th>\n",
       "      <th>headline</th>\n",
       "      <th>tripleCategoryName</th>\n",
       "      <th>categoryTags</th>\n",
       "      <th>offerMode</th>\n",
       "      <th>rewardRate</th>\n",
       "      <th>effectiveDate</th>\n",
       "      <th>minimumSpend</th>\n",
       "      <th>activationRequired</th>\n",
       "      <th>isActivated</th>\n",
       "      <th>nearestLocation</th>\n",
       "      <th>score</th>\n",
       "    </tr>\n",
       "    <tr>\n",
       "      <th>objID</th>\n",
       "      <th></th>\n",
       "      <th></th>\n",
       "      <th></th>\n",
       "      <th></th>\n",
       "      <th></th>\n",
       "      <th></th>\n",
       "      <th></th>\n",
       "      <th></th>\n",
       "      <th></th>\n",
       "      <th></th>\n",
       "      <th></th>\n",
       "      <th></th>\n",
       "      <th></th>\n",
       "      <th></th>\n",
       "      <th></th>\n",
       "      <th></th>\n",
       "    </tr>\n",
       "  </thead>\n",
       "  <tbody>\n",
       "    <tr>\n",
       "      <th>2833</th>\n",
       "      <td>137736</td>\n",
       "      <td>CARD_LINKED</td>\n",
       "      <td>USD</td>\n",
       "      <td>Capri Pizzeria and Bar</td>\n",
       "      <td>https://d34ye2dnwzj2t5.cloudfront.net/62zil3fc...</td>\n",
       "      <td>5% back at Capri Pizzeria and Bar</td>\n",
       "      <td>FOOD</td>\n",
       "      <td>Catering, Delivery Services, Grocery Stores, R...</td>\n",
       "      <td>IN_PERSON</td>\n",
       "      <td>5.0</td>\n",
       "      <td>2022-04-26</td>\n",
       "      <td>0.0</td>\n",
       "      <td>False</td>\n",
       "      <td>True</td>\n",
       "      <td>\\ncompleteAddress: 6001 Penn Ave, Pittsburgh, ...</td>\n",
       "      <td>101.26944</td>\n",
       "    </tr>\n",
       "    <tr>\n",
       "      <th>6814</th>\n",
       "      <td>153113</td>\n",
       "      <td>CARD_LINKED</td>\n",
       "      <td>USD</td>\n",
       "      <td>Mola</td>\n",
       "      <td>https://d34ye2dnwzj2t5.cloudfront.net/yx5c52gd...</td>\n",
       "      <td>5% back at Mola</td>\n",
       "      <td>FOOD</td>\n",
       "      <td>Catering, Delivery Services, Grocery Stores, R...</td>\n",
       "      <td>IN_PERSON</td>\n",
       "      <td>5.0</td>\n",
       "      <td>2022-04-26</td>\n",
       "      <td>0.0</td>\n",
       "      <td>False</td>\n",
       "      <td>True</td>\n",
       "      <td>\\ncompleteAddress: 6018 Penn Ave, Pittsburgh, ...</td>\n",
       "      <td>99.404915</td>\n",
       "    </tr>\n",
       "    <tr>\n",
       "      <th>4930</th>\n",
       "      <td>148578</td>\n",
       "      <td>CARD_LINKED</td>\n",
       "      <td>USD</td>\n",
       "      <td>Patron Mexican Grill - Pittsburgh</td>\n",
       "      <td>https://d34ye2dnwzj2t5.cloudfront.net/ht7gq576...</td>\n",
       "      <td>5% back at Patron Mexican Grill - Pittsburgh</td>\n",
       "      <td>FOOD</td>\n",
       "      <td>Catering, Delivery Services, Grocery Stores, R...</td>\n",
       "      <td>IN_PERSON</td>\n",
       "      <td>5.0</td>\n",
       "      <td>2022-04-26</td>\n",
       "      <td>0.0</td>\n",
       "      <td>False</td>\n",
       "      <td>True</td>\n",
       "      <td>\\ncompleteAddress: 135 S Highland Ave, Pittsbu...</td>\n",
       "      <td>99.198425</td>\n",
       "    </tr>\n",
       "    <tr>\n",
       "      <th>5567</th>\n",
       "      <td>146429</td>\n",
       "      <td>CARD_LINKED</td>\n",
       "      <td>USD</td>\n",
       "      <td>Fish nor Fowl</td>\n",
       "      <td>https://d34ye2dnwzj2t5.cloudfront.net/rptd3m3b...</td>\n",
       "      <td>5% back at Fish nor Fowl</td>\n",
       "      <td>FOOD</td>\n",
       "      <td>Catering, Delivery Services, Grocery Stores, R...</td>\n",
       "      <td>IN_PERSON</td>\n",
       "      <td>5.0</td>\n",
       "      <td>2022-04-26</td>\n",
       "      <td>0.0</td>\n",
       "      <td>False</td>\n",
       "      <td>True</td>\n",
       "      <td>\\ncompleteAddress: 5523 Penn Ave, Pittsburgh, ...</td>\n",
       "      <td>97.43769</td>\n",
       "    </tr>\n",
       "    <tr>\n",
       "      <th>4862</th>\n",
       "      <td>149953</td>\n",
       "      <td>CARD_LINKED</td>\n",
       "      <td>USD</td>\n",
       "      <td>Yoshino</td>\n",
       "      <td>https://d34ye2dnwzj2t5.cloudfront.net/ekv7kvsr...</td>\n",
       "      <td>5% back at Yoshino</td>\n",
       "      <td>FOOD</td>\n",
       "      <td>Catering, Delivery Services, Grocery Stores, R...</td>\n",
       "      <td>IN_PERSON</td>\n",
       "      <td>5.0</td>\n",
       "      <td>2022-04-26</td>\n",
       "      <td>0.0</td>\n",
       "      <td>False</td>\n",
       "      <td>True</td>\n",
       "      <td>\\ncompleteAddress: 5440 Walnut St, Pittsburgh,...</td>\n",
       "      <td>96.86037</td>\n",
       "    </tr>\n",
       "  </tbody>\n",
       "</table>\n",
       "</div>"
      ],
      "text/plain": [
       "      externalID         type currencyCode                       merchantName  \\\n",
       "objID                                                                           \n",
       "2833      137736  CARD_LINKED          USD             Capri Pizzeria and Bar   \n",
       "6814      153113  CARD_LINKED          USD                               Mola   \n",
       "4930      148578  CARD_LINKED          USD  Patron Mexican Grill - Pittsburgh   \n",
       "5567      146429  CARD_LINKED          USD                      Fish nor Fowl   \n",
       "4862      149953  CARD_LINKED          USD                            Yoshino   \n",
       "\n",
       "                                         merchantLogoURL  \\\n",
       "objID                                                      \n",
       "2833   https://d34ye2dnwzj2t5.cloudfront.net/62zil3fc...   \n",
       "6814   https://d34ye2dnwzj2t5.cloudfront.net/yx5c52gd...   \n",
       "4930   https://d34ye2dnwzj2t5.cloudfront.net/ht7gq576...   \n",
       "5567   https://d34ye2dnwzj2t5.cloudfront.net/rptd3m3b...   \n",
       "4862   https://d34ye2dnwzj2t5.cloudfront.net/ekv7kvsr...   \n",
       "\n",
       "                                           headline tripleCategoryName  \\\n",
       "objID                                                                    \n",
       "2833              5% back at Capri Pizzeria and Bar               FOOD   \n",
       "6814                                5% back at Mola               FOOD   \n",
       "4930   5% back at Patron Mexican Grill - Pittsburgh               FOOD   \n",
       "5567                       5% back at Fish nor Fowl               FOOD   \n",
       "4862                             5% back at Yoshino               FOOD   \n",
       "\n",
       "                                            categoryTags  offerMode  \\\n",
       "objID                                                                 \n",
       "2833   Catering, Delivery Services, Grocery Stores, R...  IN_PERSON   \n",
       "6814   Catering, Delivery Services, Grocery Stores, R...  IN_PERSON   \n",
       "4930   Catering, Delivery Services, Grocery Stores, R...  IN_PERSON   \n",
       "5567   Catering, Delivery Services, Grocery Stores, R...  IN_PERSON   \n",
       "4862   Catering, Delivery Services, Grocery Stores, R...  IN_PERSON   \n",
       "\n",
       "      rewardRate effectiveDate minimumSpend  activationRequired  isActivated  \\\n",
       "objID                                                                          \n",
       "2833         5.0    2022-04-26          0.0               False         True   \n",
       "6814         5.0    2022-04-26          0.0               False         True   \n",
       "4930         5.0    2022-04-26          0.0               False         True   \n",
       "5567         5.0    2022-04-26          0.0               False         True   \n",
       "4862         5.0    2022-04-26          0.0               False         True   \n",
       "\n",
       "                                         nearestLocation      score  \n",
       "objID                                                                \n",
       "2833   \\ncompleteAddress: 6001 Penn Ave, Pittsburgh, ...  101.26944  \n",
       "6814   \\ncompleteAddress: 6018 Penn Ave, Pittsburgh, ...  99.404915  \n",
       "4930   \\ncompleteAddress: 135 S Highland Ave, Pittsbu...  99.198425  \n",
       "5567   \\ncompleteAddress: 5523 Penn Ave, Pittsburgh, ...   97.43769  \n",
       "4862   \\ncompleteAddress: 5440 Walnut St, Pittsburgh,...   96.86037  "
      ]
     },
     "execution_count": 5,
     "metadata": {},
     "output_type": "execute_result"
    }
   ],
   "source": [
    "panel = pd.DataFrame([ o.__dict__ for o in offers ])\n",
    "panel.index = panel.objID\n",
    "del panel['objID']\n",
    "panel.head(5)"
   ]
  },
  {
   "cell_type": "markdown",
   "id": "5afb3d4d-d023-4303-8879-d476c24c7b6c",
   "metadata": {},
   "source": [
    "---\n",
    "## Grab an offer"
   ]
  },
  {
   "cell_type": "markdown",
   "id": "da4ab9a0-73fa-4875-8019-e28e1f8261f9",
   "metadata": {},
   "source": [
    "### Configure the CLOfferDisplay class"
   ]
  },
  {
   "cell_type": "code",
   "execution_count": null,
   "id": "daf7465e-fdb4-4924-b680-6b86fdf19269",
   "metadata": {},
   "outputs": [],
   "source": [
    "from coronado.display import CardLinkedOfferDetails as CLOfferDetails\n",
    "from coronado.display import FETCH_RPC_SERVICE_PATH\n",
    "\n",
    "CLOfferDetails.initialize(config['serviceURL'], FETCH_RPC_SERVICE_PATH, auth)"
   ]
  },
  {
   "cell_type": "markdown",
   "id": "0338ade7-6637-4401-8d36-263a03a53693",
   "metadata": {},
   "source": [
    "### Prepare the offer details spec"
   ]
  },
  {
   "cell_type": "code",
   "execution_count": null,
   "id": "e0a09728-6b3a-4d81-a25e-87015ce32dcf",
   "metadata": {},
   "outputs": [],
   "source": [
    "spec = {\n",
    "    \"proximity_target\": {\n",
    "        \"latitude\": \"40.4604548\",\n",
    "        \"longitude\": \"-79.9215594\",\n",
    "        \"radius\": 35000\n",
    "    },\n",
    "    \"card_account_identifier\": {\n",
    "        \"card_account_id\": '2'\n",
    "    },\n",
    "}"
   ]
  },
  {
   "cell_type": "markdown",
   "id": "5053f1d5-63d8-4329-8ccc-e31f405d16d8",
   "metadata": {},
   "source": [
    "### Fetch the object\n",
    "\n",
    "We can pick an object ID from the full list search results; they're supposed to be valid"
   ]
  },
  {
   "cell_type": "code",
   "execution_count": null,
   "id": "ad9a50ff-716b-4d12-9d89-0e136de80188",
   "metadata": {},
   "outputs": [],
   "source": [
    "offerID = '4930'\n",
    "offerDetails = CLOfferDetails.forID(offerID, spec)"
   ]
  },
  {
   "cell_type": "markdown",
   "id": "db6e45c3-ee6a-4472-828e-2887d49ea35b",
   "metadata": {},
   "source": [
    "### View the details"
   ]
  },
  {
   "cell_type": "code",
   "execution_count": null,
   "id": "b045bbd1-f4f4-4560-8427-4ca09c0e5912",
   "metadata": {},
   "outputs": [],
   "source": [
    "offerDetails.offer.listAttributes()"
   ]
  },
  {
   "cell_type": "code",
   "execution_count": null,
   "id": "4bc2a309-9c60-4d3b-abb6-992241f54c2a",
   "metadata": {},
   "outputs": [],
   "source": [
    "print(offerDetails.offer)"
   ]
  },
  {
   "cell_type": "code",
   "execution_count": null,
   "id": "5bc5d190-0a14-4141-b9ae-438d06e72eb0",
   "metadata": {},
   "outputs": [],
   "source": [
    "merchantLocation = (offerDetails.merchantLocations[0])\n",
    "merchantLocation.listAttributes()"
   ]
  },
  {
   "cell_type": "code",
   "execution_count": null,
   "id": "2ad0ef84-17a8-4876-8b24-2cac039d0dd0",
   "metadata": {},
   "outputs": [],
   "source": [
    "print(merchantLocation)"
   ]
  },
  {
   "cell_type": "code",
   "execution_count": null,
   "id": "d3e8050a-58f3-471e-999a-710ebd20bc48",
   "metadata": {},
   "outputs": [],
   "source": []
  }
 ],
 "metadata": {
  "kernelspec": {
   "display_name": "Python 3 (ipykernel)",
   "language": "python",
   "name": "python3"
  },
  "language_info": {
   "codemirror_mode": {
    "name": "ipython",
    "version": 3
   },
   "file_extension": ".py",
   "mimetype": "text/x-python",
   "name": "python",
   "nbconvert_exporter": "python",
   "pygments_lexer": "ipython3",
   "version": "3.10.5"
  }
 },
 "nbformat": 4,
 "nbformat_minor": 5
}
