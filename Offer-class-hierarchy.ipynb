{
 "cells": [
  {
   "cell_type": "markdown",
   "id": "4dbe5516-8ccd-4093-952f-fba379953ba3",
   "metadata": {},
   "source": [
    "# Offer class hierarchy"
   ]
  },
  {
   "cell_type": "code",
   "execution_count": 1,
   "id": "756daa27-7fdf-4a95-8a2d-b4edc13004f0",
   "metadata": {},
   "outputs": [],
   "source": [
    "from coronado.auth import loadConfig\n",
    "from coronado.auth import Auth\n",
    "from coronado.display import CLOffer\n",
    "from coronado.display import CLOfferDetails\n",
    "from coronado.display import OfferSearchResult\n",
    "from coronado.display import FETCH_RPC_SERVICE_PATH\n",
    "from coronado.display import SEARCH_RPC_SERVICE_PATH\n",
    "from coronado.offer import Offer\n",
    "\n",
    "import pandas as pd"
   ]
  },
  {
   "cell_type": "code",
   "execution_count": 2,
   "id": "2ad3a054-5525-43c7-aa05-55621beab1e5",
   "metadata": {},
   "outputs": [],
   "source": [
    "o1 = Offer()\n",
    "o2 = CLOfferDetails()\n",
    "o3 = OfferSearchResult()"
   ]
  },
  {
   "cell_type": "code",
   "execution_count": 3,
   "id": "0246ee48-b423-40b1-9c23-fdf7b8cca156",
   "metadata": {},
   "outputs": [],
   "source": [
    "def dump(tripleObject):\n",
    "    className = str(tripleObject.__class__).split('.').pop().replace(\"'\", '').replace('>', '')\n",
    "    \n",
    "    keys = sorted(tripleObject.__dict__.keys())\n",
    "    for k in keys:\n",
    "        v = tripleObject.__dict__[k]\n",
    "        print('%s\\t%s\\t%s' % (k, className, str(type(v)).split(\"'\")[1]))"
   ]
  },
  {
   "cell_type": "code",
   "execution_count": 4,
   "id": "f99a3b55-0e67-4499-9348-914910d89617",
   "metadata": {},
   "outputs": [
    {
     "name": "stdout",
     "output_type": "stream",
     "text": [
      "activationDurationInDays\tOffer\tint\n",
      "activationRequired\tOffer\tbool\n",
      "category\tOffer\tstr\n",
      "categoryMccs\tOffer\tlist\n",
      "categoryTags\tOffer\tstr\n",
      "currencyCode\tOffer\tstr\n",
      "description\tOffer\tstr\n",
      "effectiveDate\tOffer\tstr\n",
      "excludedDates\tOffer\tlist\n",
      "expirationDate\tOffer\tstr\n",
      "externalID\tOffer\tstr\n",
      "headline\tOffer\tstr\n",
      "isActivated\tOffer\tbool\n",
      "logoURL\tOffer\tstr\n",
      "marketingFee\tOffer\tint\n",
      "marketingFeeCurrencyCode\tOffer\tstr\n",
      "marketingFeeType\tOffer\tstr\n",
      "maxRedemptions\tOffer\tstr\n",
      "maximumRewardCumulative\tOffer\tint\n",
      "maximumRewardPerTransaction\tOffer\tint\n",
      "merchantID\tOffer\tstr\n",
      "merchantWebsite\tOffer\tstr\n",
      "minimumSpend\tOffer\tint\n",
      "mode\tOffer\tstr\n",
      "objID\tOffer\tstr\n",
      "rewardRate\tOffer\tint\n",
      "rewardType\tOffer\tstr\n",
      "rewardValue\tOffer\tint\n",
      "termsAndConditions\tOffer\tstr\n",
      "type\tOffer\tstr\n",
      "validDayParts\tOffer\tcoronado.TripleObject\n"
     ]
    }
   ],
   "source": [
    "dump(o1)"
   ]
  },
  {
   "cell_type": "code",
   "execution_count": 5,
   "id": "944d5557-11ef-44e6-ab7f-20625e5fc62b",
   "metadata": {},
   "outputs": [
    {
     "name": "stdout",
     "output_type": "stream",
     "text": [
      "activationDurationInDays\tCLOffer\tint\n",
      "activationRequired\tCLOffer\tbool\n",
      "category\tCLOffer\tstr\n",
      "categoryMccs\tCLOffer\tlist\n",
      "categoryTags\tCLOffer\tstr\n",
      "currencyCode\tCLOffer\tstr\n",
      "description\tCLOffer\tstr\n",
      "effectiveDate\tCLOffer\tstr\n",
      "excludedDates\tCLOffer\tlist\n",
      "expirationDate\tCLOffer\tstr\n",
      "headline\tCLOffer\tstr\n",
      "isActivated\tCLOffer\tbool\n",
      "maxRedemptions\tCLOffer\tstr\n",
      "maximumRewardCumulative\tCLOffer\tint\n",
      "maximumRewardPerTransaction\tCLOffer\tint\n",
      "merchantCategoryCode\tCLOffer\tcoronado.TripleObject\n",
      "merchantLogoURL\tCLOffer\tstr\n",
      "merchantName\tCLOffer\tstr\n",
      "merchantWebsite\tCLOffer\tstr\n",
      "minimumSpend\tCLOffer\tint\n",
      "mode\tCLOffer\tstr\n",
      "objID\tCLOffer\tstr\n",
      "rewardRate\tCLOffer\tint\n",
      "rewardType\tCLOffer\tstr\n",
      "rewardValue\tCLOffer\tint\n",
      "termsAndConditions\tCLOffer\tstr\n",
      "type\tCLOffer\tstr\n",
      "validDayParts\tCLOffer\tcoronado.TripleObject\n"
     ]
    }
   ],
   "source": [
    "dump(CLOffer(o2.offer))"
   ]
  },
  {
   "cell_type": "code",
   "execution_count": 6,
   "id": "a3025ccb-fcf4-463b-8abc-90055128f95a",
   "metadata": {},
   "outputs": [
    {
     "name": "stdout",
     "output_type": "stream",
     "text": [
      "activationRequired\tOfferSearchResult\tbool\n",
      "category\tOfferSearchResult\tstr\n",
      "categoryTags\tOfferSearchResult\tstr\n",
      "currencyCode\tOfferSearchResult\tstr\n",
      "effectiveDate\tOfferSearchResult\tstr\n",
      "expirationDate\tOfferSearchResult\tstr\n",
      "externalID\tOfferSearchResult\tstr\n",
      "headline\tOfferSearchResult\tstr\n",
      "isActivated\tOfferSearchResult\tbool\n",
      "maxRedemptions\tOfferSearchResult\tstr\n",
      "maximumRewardPerTransaction\tOfferSearchResult\tint\n",
      "merchantID\tOfferSearchResult\tstr\n",
      "merchantLogoURL\tOfferSearchResult\tstr\n",
      "minimumSpend\tOfferSearchResult\tint\n",
      "mode\tOfferSearchResult\tstr\n",
      "nearestLocation\tOfferSearchResult\tcoronado.TripleObject\n",
      "objID\tOfferSearchResult\tstr\n",
      "rewardRate\tOfferSearchResult\tint\n",
      "rewardType\tOfferSearchResult\tstr\n",
      "rewardValue\tOfferSearchResult\tint\n",
      "score\tOfferSearchResult\tint\n",
      "type\tOfferSearchResult\tstr\n"
     ]
    }
   ],
   "source": [
    "dump(o3)"
   ]
  },
  {
   "cell_type": "code",
   "execution_count": 21,
   "id": "a1132c34-77da-4b5c-b8df-962ad2892150",
   "metadata": {},
   "outputs": [
    {
     "name": "stdout",
     "output_type": "stream",
     "text": [
      "activationDurationInDays\tCLOffer\tOffer\n",
      "activationRequired\tCLOffer\tOffer\tOfferSearchResult\n",
      "category\tCLOffer\tOffer\tOfferSearchResult\n",
      "categoryMccs\tCLOffer\tOffer\n",
      "categoryTags\tCLOffer\tOffer\tOfferSearchResult\n",
      "currencyCode\tCLOffer\tOffer\tOfferSearchResult\n",
      "description\tCLOffer\tOffer\n",
      "effectiveDate\tCLOffer\tOffer\tOfferSearchResult\n",
      "excludedDates\tCLOffer\tOffer\n",
      "expirationDate\tCLOffer\tOffer\tOfferSearchResult\n",
      "externalID\tOffer\tOfferSearchResult\n",
      "headline\tCLOffer\tOffer\tOfferSearchResult\n",
      "isActivated\tCLOffer\tOffer\tOfferSearchResult\n",
      "logoURL\tOffer\n",
      "marketingFeeCurrencyCode\tOffer\n",
      "marketingFee\tOffer\n",
      "marketingFeeType\tOffer\n",
      "maximumRewardCumulative\tCLOffer\tOffer\n",
      "maximumRewardPerTransaction\tCLOffer\tOffer\tOfferSearchResult\n",
      "maxRedemptions\tCLOffer\tOffer\tOfferSearchResult\n",
      "merchantCategoryCode\tCLOffer\n",
      "merchantID\tOffer\tOfferSearchResult\n",
      "merchantLogoURL\tCLOffer\tOfferSearchResult\n",
      "merchantName\tCLOffer\n",
      "merchantWebsite\tCLOffer\tOffer\n",
      "minimumSpend\tCLOffer\tOffer\tOfferSearchResult\n",
      "mode\tCLOffer\tOffer\tOfferSearchResult\n",
      "nearestLocation\tOfferSearchResult\n",
      "objID\tCLOffer\tOffer\tOfferSearchResult\n",
      "rewardRate\tCLOffer\tOffer\tOfferSearchResult\n",
      "rewardType\tCLOffer\tOffer\tOfferSearchResult\n",
      "rewardValue\tCLOffer\tOffer\tOfferSearchResult\n",
      "score\tOfferSearchResult\n",
      "termsAndConditions\tCLOffer\tOffer\n",
      "type\tCLOffer\tOffer\tOfferSearchResult\n",
      "validDayParts\tCLOffer\tOffer\n"
     ]
    }
   ],
   "source": [
    "!awk '{ \\\n",
    "        n[$1]++; \\\n",
    "        if (n[$1] > 1) \\\n",
    "            a[$1] = sprintf(\"%s\\t%s\", a[$1], $2); \\\n",
    "        else \\\n",
    "            a[$1] = $2 \\\n",
    "    } \\\n",
    "    END { \\\n",
    "        for (attr in a) \\\n",
    "            printf(\"%s\\t%s\\n\", attr, a[attr]); \\\n",
    "    }' \"offers-attributes.txt\" | sort"
   ]
  },
  {
   "cell_type": "code",
   "execution_count": null,
   "id": "80938e04-6799-40d8-ad06-b301e8bc248c",
   "metadata": {},
   "outputs": [],
   "source": []
  }
 ],
 "metadata": {
  "kernelspec": {
   "display_name": "Python 3 (ipykernel)",
   "language": "python",
   "name": "python3"
  },
  "language_info": {
   "codemirror_mode": {
    "name": "ipython",
    "version": 3
   },
   "file_extension": ".py",
   "mimetype": "text/x-python",
   "name": "python",
   "nbconvert_exporter": "python",
   "pygments_lexer": "ipython3",
   "version": "3.10.5"
  }
 },
 "nbformat": 4,
 "nbformat_minor": 5
}
